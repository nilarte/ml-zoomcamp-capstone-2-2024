{
 "cells": [
  {
   "cell_type": "code",
   "execution_count": 1,
   "id": "0d054d16-f83f-461a-8d2c-53bc67df186b",
   "metadata": {
    "execution": {
     "iopub.execute_input": "2025-01-22T20:25:05.798954Z",
     "iopub.status.busy": "2025-01-22T20:25:05.798629Z",
     "iopub.status.idle": "2025-01-22T20:25:08.005544Z",
     "shell.execute_reply": "2025-01-22T20:25:08.004908Z",
     "shell.execute_reply.started": "2025-01-22T20:25:05.798931Z"
    }
   },
   "outputs": [
    {
     "name": "stdout",
     "output_type": "stream",
     "text": [
      "Collecting keras-image-helper\n",
      "  Downloading keras_image_helper-0.0.1-py3-none-any.whl.metadata (2.3 kB)\n",
      "Requirement already satisfied: numpy in /opt/saturncloud/envs/saturn/lib/python3.12/site-packages (from keras-image-helper) (2.0.2)\n",
      "Requirement already satisfied: pillow in /opt/saturncloud/envs/saturn/lib/python3.12/site-packages (from keras-image-helper) (11.0.0)\n",
      "Downloading keras_image_helper-0.0.1-py3-none-any.whl (4.6 kB)\n",
      "Installing collected packages: keras-image-helper\n",
      "Successfully installed keras-image-helper-0.0.1\n"
     ]
    }
   ],
   "source": [
    "!pip install keras-image-helper"
   ]
  },
  {
   "cell_type": "code",
   "execution_count": 3,
   "id": "148c94a0-dbe7-4ed5-89f7-302d963dcd0c",
   "metadata": {
    "execution": {
     "iopub.execute_input": "2025-01-22T20:38:36.784710Z",
     "iopub.status.busy": "2025-01-22T20:38:36.784352Z",
     "iopub.status.idle": "2025-01-22T20:38:39.539341Z",
     "shell.execute_reply": "2025-01-22T20:38:39.538805Z",
     "shell.execute_reply.started": "2025-01-22T20:38:36.784686Z"
    }
   },
   "outputs": [
    {
     "name": "stderr",
     "output_type": "stream",
     "text": [
      "2025-01-22 20:38:37.011494: I tensorflow/core/util/port.cc:153] oneDNN custom operations are on. You may see slightly different numerical results due to floating-point round-off errors from different computation orders. To turn them off, set the environment variable `TF_ENABLE_ONEDNN_OPTS=0`.\n",
      "2025-01-22 20:38:37.030152: E external/local_xla/xla/stream_executor/cuda/cuda_fft.cc:477] Unable to register cuFFT factory: Attempting to register factory for plugin cuFFT when one has already been registered\n",
      "WARNING: All log messages before absl::InitializeLog() is called are written to STDERR\n",
      "E0000 00:00:1737578317.050375   20447 cuda_dnn.cc:8310] Unable to register cuDNN factory: Attempting to register factory for plugin cuDNN when one has already been registered\n",
      "E0000 00:00:1737578317.056558   20447 cuda_blas.cc:1418] Unable to register cuBLAS factory: Attempting to register factory for plugin cuBLAS when one has already been registered\n",
      "2025-01-22 20:38:37.076701: I tensorflow/core/platform/cpu_feature_guard.cc:210] This TensorFlow binary is optimized to use available CPU instructions in performance-critical operations.\n",
      "To enable the following instructions: AVX2 AVX512F AVX512_VNNI FMA, in other operations, rebuild TensorFlow with the appropriate compiler flags.\n"
     ]
    }
   ],
   "source": [
    "import tensorflow.lite as tflite\n",
    "from keras_image_helper import create_preprocessor"
   ]
  },
  {
   "cell_type": "code",
   "execution_count": 4,
   "id": "ecc817ca-95be-4301-8ba4-1782ce6716d5",
   "metadata": {
    "execution": {
     "iopub.execute_input": "2025-01-22T20:40:38.365851Z",
     "iopub.status.busy": "2025-01-22T20:40:38.365314Z",
     "iopub.status.idle": "2025-01-22T20:40:38.470655Z",
     "shell.execute_reply": "2025-01-22T20:40:38.469974Z",
     "shell.execute_reply.started": "2025-01-22T20:40:38.365827Z"
    }
   },
   "outputs": [
    {
     "name": "stderr",
     "output_type": "stream",
     "text": [
      "INFO: Created TensorFlow Lite XNNPACK delegate for CPU.\n"
     ]
    }
   ],
   "source": [
    "interpreter = tflite.Interpreter(model_path='model.tflite')\n",
    "interpreter.allocate_tensors()\n",
    "\n",
    "input_index = interpreter.get_input_details()[0]['index']\n",
    "output_index = interpreter.get_output_details()[0]['index']"
   ]
  },
  {
   "cell_type": "code",
   "execution_count": 5,
   "id": "0faa83dc-b0fb-4a25-810b-3a4eea6e2582",
   "metadata": {
    "execution": {
     "iopub.execute_input": "2025-01-22T20:41:20.313880Z",
     "iopub.status.busy": "2025-01-22T20:41:20.313540Z",
     "iopub.status.idle": "2025-01-22T20:41:20.317091Z",
     "shell.execute_reply": "2025-01-22T20:41:20.316417Z",
     "shell.execute_reply.started": "2025-01-22T20:41:20.313858Z"
    }
   },
   "outputs": [],
   "source": [
    "preprocessor = create_preprocessor('xception', target_size=(200, 200))"
   ]
  },
  {
   "cell_type": "code",
   "execution_count": 8,
   "id": "026dcfd8-47ab-41df-bb29-309cbe2a1f45",
   "metadata": {
    "execution": {
     "iopub.execute_input": "2025-01-22T20:50:23.146180Z",
     "iopub.status.busy": "2025-01-22T20:50:23.145841Z",
     "iopub.status.idle": "2025-01-22T20:50:23.204616Z",
     "shell.execute_reply": "2025-01-22T20:50:23.204039Z",
     "shell.execute_reply.started": "2025-01-22T20:50:23.146158Z"
    }
   },
   "outputs": [],
   "source": [
    "url = 'https://raw.githubusercontent.com/nilarte/ml-zoomcamp-capstone-2-2024/refs/heads/main/data/test/young/10056.jpg'\n",
    "X = preprocessor.from_url(url)"
   ]
  },
  {
   "cell_type": "code",
   "execution_count": 11,
   "id": "312f5f52-d369-4cac-b310-fbea276f4af5",
   "metadata": {
    "execution": {
     "iopub.execute_input": "2025-01-22T20:52:28.615045Z",
     "iopub.status.busy": "2025-01-22T20:52:28.614697Z",
     "iopub.status.idle": "2025-01-22T20:52:28.746029Z",
     "shell.execute_reply": "2025-01-22T20:52:28.745427Z",
     "shell.execute_reply.started": "2025-01-22T20:52:28.615023Z"
    }
   },
   "outputs": [],
   "source": [
    "interpreter.set_tensor(input_index, X)\n",
    "interpreter.invoke()\n",
    "pred = interpreter.get_tensor(output_index)"
   ]
  },
  {
   "cell_type": "code",
   "execution_count": 12,
   "id": "579eb4b8-f38e-493e-87c3-07dfc5d74198",
   "metadata": {
    "execution": {
     "iopub.execute_input": "2025-01-22T20:52:31.066870Z",
     "iopub.status.busy": "2025-01-22T20:52:31.066538Z",
     "iopub.status.idle": "2025-01-22T20:52:31.255770Z",
     "shell.execute_reply": "2025-01-22T20:52:31.254860Z",
     "shell.execute_reply.started": "2025-01-22T20:52:31.066848Z"
    }
   },
   "outputs": [
    {
     "name": "stdout",
     "output_type": "stream",
     "text": [
      "[0.06372706 0.936273  ]\n"
     ]
    },
    {
     "name": "stderr",
     "output_type": "stream",
     "text": [
      "I0000 00:00:1737579151.214834   20447 gpu_device.cc:2022] Created device /job:localhost/replica:0/task:0/device:GPU:0 with 699 MB memory:  -> device: 0, name: Tesla T4, pci bus id: 0000:00:1e.0, compute capability: 7.5\n"
     ]
    }
   ],
   "source": [
    "import tensorflow as tf\n",
    "\n",
    "probabilities = tf.nn.softmax(pred[0]).numpy()\n",
    "print(probabilities)"
   ]
  },
  {
   "cell_type": "code",
   "execution_count": null,
   "id": "be825fad-b306-4fca-ba3a-e2916d45a3c2",
   "metadata": {},
   "outputs": [],
   "source": []
  }
 ],
 "metadata": {
  "kernelspec": {
   "display_name": "saturn (Python 3)",
   "language": "python",
   "name": "python3"
  },
  "language_info": {
   "codemirror_mode": {
    "name": "ipython",
    "version": 3
   },
   "file_extension": ".py",
   "mimetype": "text/x-python",
   "name": "python",
   "nbconvert_exporter": "python",
   "pygments_lexer": "ipython3",
   "version": "3.12.7"
  }
 },
 "nbformat": 4,
 "nbformat_minor": 5
}
