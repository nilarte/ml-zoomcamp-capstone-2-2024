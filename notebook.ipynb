{
 "cells": [
  {
   "cell_type": "code",
   "execution_count": 35,
   "id": "97e5a21d-c123-4f9d-ad4e-10fab2cfbda1",
   "metadata": {
    "execution": {
     "iopub.execute_input": "2025-01-22T18:36:10.105395Z",
     "iopub.status.busy": "2025-01-22T18:36:10.105054Z",
     "iopub.status.idle": "2025-01-22T18:36:10.112706Z",
     "shell.execute_reply": "2025-01-22T18:36:10.111864Z",
     "shell.execute_reply.started": "2025-01-22T18:36:10.105373Z"
    }
   },
   "outputs": [],
   "source": [
    "import numpy as np\n",
    "import matplotlib.pyplot as plt\n",
    "\n",
    "%matplotlib inline\n",
    "import tensorflow as tf\n",
    "from tensorflow import keras\n",
    "from tensorflow.keras.preprocessing.image import load_img\n",
    "from tensorflow.keras import layers\n",
    "from tensorflow.keras import models\n",
    "from tensorflow.keras import optimizers\n",
    "from tensorflow.keras.preprocessing.image import ImageDataGenerator\n",
    "from tensorflow.keras.applications.xception import preprocess_input\n"
   ]
  },
  {
   "cell_type": "code",
   "execution_count": 36,
   "id": "6375edeb-1967-4147-98ee-7c94ae4c0805",
   "metadata": {
    "execution": {
     "iopub.execute_input": "2025-01-22T18:36:10.114131Z",
     "iopub.status.busy": "2025-01-22T18:36:10.113882Z",
     "iopub.status.idle": "2025-01-22T18:36:10.124823Z",
     "shell.execute_reply": "2025-01-22T18:36:10.124302Z",
     "shell.execute_reply.started": "2025-01-22T18:36:10.114113Z"
    }
   },
   "outputs": [],
   "source": [
    "import numpy as np\n",
    "import tensorflow as tf\n",
    "\n",
    "SEED = 42\n",
    "np.random.seed(SEED)\n",
    "tf.random.set_seed(SEED)"
   ]
  },
  {
   "cell_type": "code",
   "execution_count": 37,
   "id": "0ac8e808-d150-412e-ae19-d1413b8dea4f",
   "metadata": {
    "execution": {
     "iopub.execute_input": "2025-01-22T18:36:10.126199Z",
     "iopub.status.busy": "2025-01-22T18:36:10.125953Z",
     "iopub.status.idle": "2025-01-22T18:36:10.132442Z",
     "shell.execute_reply": "2025-01-22T18:36:10.131921Z",
     "shell.execute_reply.started": "2025-01-22T18:36:10.126182Z"
    }
   },
   "outputs": [],
   "source": [
    "#import kagglehub\n",
    "\n",
    "# Download latest version\n",
    "#path = kagglehub.dataset_download(\"goubeast/age-prediction-av\")\n",
    "#print(\"Path to dataset files:\", path)"
   ]
  },
  {
   "cell_type": "code",
   "execution_count": 38,
   "id": "51c7e260-d520-40c6-b8c6-10ff76789fa7",
   "metadata": {
    "execution": {
     "iopub.execute_input": "2025-01-22T18:36:10.133638Z",
     "iopub.status.busy": "2025-01-22T18:36:10.133099Z",
     "iopub.status.idle": "2025-01-22T18:36:10.776913Z",
     "shell.execute_reply": "2025-01-22T18:36:10.776194Z",
     "shell.execute_reply.started": "2025-01-22T18:36:10.133618Z"
    }
   },
   "outputs": [
    {
     "name": "stdout",
     "output_type": "stream",
     "text": [
      "10019.jpg  13515.jpg  17028.jpg  20323.jpg  23707.jpg  3335.jpg  6651.jpg\n",
      "10040.jpg  13520.jpg  17030.jpg  20407.jpg  23711.jpg  3338.jpg  6685.jpg\n",
      "10055.jpg  1352.jpg   17037.jpg  20415.jpg  23716.jpg  3344.jpg  6691.jpg\n",
      "10059.jpg  13535.jpg  17042.jpg  20422.jpg  23717.jpg  3375.jpg  6693.jpg\n",
      "10063.jpg  13537.jpg  17093.jpg  20431.jpg  23720.jpg  337.jpg\t 6696.jpg\n",
      "10093.jpg  13546.jpg  17095.jpg  20438.jpg  23766.jpg  3386.jpg  6713.jpg\n",
      "10105.jpg  13558.jpg  17127.jpg  20488.jpg  23781.jpg  3401.jpg  6724.jpg\n",
      "10116.jpg  13578.jpg  17137.jpg  2051.jpg   23785.jpg  3414.jpg  6732.jpg\n",
      "10120.jpg  13604.jpg  17142.jpg  20523.jpg  23793.jpg  3421.jpg  6746.jpg\n",
      "10122.jpg  13622.jpg  17218.jpg  20559.jpg  23824.jpg  342.jpg\t 6811.jpg\n",
      "1013.jpg   13652.jpg  17223.jpg  20569.jpg  23891.jpg  3435.jpg  6880.jpg\n",
      "10147.jpg  13687.jpg  17227.jpg  2062.jpg   23917.jpg  3436.jpg  6888.jpg\n",
      "10157.jpg  136.jpg    1722.jpg\t 20648.jpg  23921.jpg  3462.jpg  6897.jpg\n",
      "10168.jpg  13701.jpg  17261.jpg  20656.jpg  23935.jpg  3481.jpg  6903.jpg\n",
      "10179.jpg  13710.jpg  17263.jpg  20690.jpg  23936.jpg  3487.jpg  6935.jpg\n",
      "10201.jpg  13737.jpg  17281.jpg  20691.jpg  23937.jpg  3496.jpg  6992.jpg\n",
      "10221.jpg  13746.jpg  17282.jpg  20695.jpg  2395.jpg   3510.jpg  700.jpg\n",
      "10229.jpg  13767.jpg  17289.jpg  206.jpg    23969.jpg  3521.jpg  7010.jpg\n",
      "1022.jpg   13799.jpg  17291.jpg  20700.jpg  23985.jpg  3522.jpg  7021.jpg\n",
      "10245.jpg  13800.jpg  17296.jpg  20702.jpg  23999.jpg  3527.jpg  7033.jpg\n",
      "10258.jpg  13802.jpg  17305.jpg  2070.jpg   24029.jpg  3529.jpg  7035.jpg\n",
      "10293.jpg  13818.jpg  17316.jpg  20739.jpg  24039.jpg  3533.jpg  706.jpg\n",
      "10305.jpg  13826.jpg  17348.jpg  20746.jpg  2403.jpg   3535.jpg  7081.jpg\n",
      "10321.jpg  13837.jpg  1734.jpg\t 20763.jpg  24041.jpg  3542.jpg  7082.jpg\n",
      "10333.jpg  13862.jpg  17367.jpg  20800.jpg  24053.jpg  3543.jpg  7093.jpg\n",
      "10335.jpg  13865.jpg  17383.jpg  2080.jpg   24064.jpg  3553.jpg  7113.jpg\n",
      "10343.jpg  13866.jpg  17397.jpg  20812.jpg  24069.jpg  3557.jpg  7123.jpg\n",
      "10345.jpg  13915.jpg  17398.jpg  2084.jpg   24080.jpg  358.jpg\t 7172.jpg\n",
      "10352.jpg  13942.jpg  1741.jpg\t 20866.jpg  24100.jpg  361.jpg\t 7184.jpg\n",
      "10365.jpg  13949.jpg  17432.jpg  2087.jpg   24113.jpg  3623.jpg  7185.jpg\n",
      "1036.jpg   13970.jpg  17440.jpg  20886.jpg  24151.jpg  3656.jpg  7192.jpg\n",
      "10408.jpg  13980.jpg  17441.jpg  20920.jpg  24157.jpg  367.jpg\t 7194.jpg\n",
      "10444.jpg  13994.jpg  17470.jpg  20927.jpg  24162.jpg  3686.jpg  7195.jpg\n",
      "10447.jpg  13996.jpg  17494.jpg  20943.jpg  24173.jpg  3705.jpg  7209.jpg\n",
      "10472.jpg  13998.jpg  17502.jpg  20946.jpg  24191.jpg  3731.jpg  7240.jpg\n",
      "10485.jpg  14002.jpg  17538.jpg  2094.jpg   24196.jpg  3772.jpg  7252.jpg\n",
      "10488.jpg  14009.jpg  17545.jpg  20953.jpg  2419.jpg   3787.jpg  7277.jpg\n",
      "10501.jpg  1401.jpg   17607.jpg  20980.jpg  24230.jpg  3793.jpg  7318.jpg\n",
      "10522.jpg  1403.jpg   17647.jpg  20991.jpg  24239.jpg  383.jpg\t 7339.jpg\n",
      "10539.jpg  14042.jpg  17654.jpg  20993.jpg  24245.jpg  3842.jpg  7343.jpg\n",
      "10555.jpg  14053.jpg  17672.jpg  21008.jpg  24272.jpg  3850.jpg  7353.jpg\n",
      "10564.jpg  14064.jpg  17673.jpg  21020.jpg  24275.jpg  3854.jpg  7381.jpg\n",
      "10582.jpg  1408.jpg   17685.jpg  21025.jpg  24287.jpg  3868.jpg  7391.jpg\n",
      "10615.jpg  14098.jpg  17691.jpg  21028.jpg  24303.jpg  3871.jpg  7397.jpg\n",
      "10626.jpg  14107.jpg  1773.jpg\t 21030.jpg  24309.jpg  3877.jpg  7424.jpg\n",
      "10631.jpg  14116.jpg  17748.jpg  21037.jpg  24319.jpg  3879.jpg  7425.jpg\n",
      "10632.jpg  14128.jpg  17761.jpg  21044.jpg  24320.jpg  3888.jpg  742.jpg\n",
      "10641.jpg  14131.jpg  17763.jpg  21046.jpg  2433.jpg   3901.jpg  7436.jpg\n",
      "1065.jpg   14137.jpg  17773.jpg  2104.jpg   24376.jpg  3943.jpg  7437.jpg\n",
      "1066.jpg   14151.jpg  17777.jpg  21064.jpg  24405.jpg  3945.jpg  7448.jpg\n",
      "1067.jpg   14153.jpg  17784.jpg  21092.jpg  24410.jpg  3970.jpg  7452.jpg\n",
      "10709.jpg  14154.jpg  17786.jpg  21093.jpg  24411.jpg  3985.jpg  7473.jpg\n",
      "1071.jpg   14186.jpg  17797.jpg  21101.jpg  24428.jpg  4002.jpg  747.jpg\n",
      "10753.jpg  14195.jpg  17822.jpg  21104.jpg  24431.jpg  4020.jpg  7480.jpg\n",
      "10766.jpg  14210.jpg  17839.jpg  21109.jpg  24436.jpg  4022.jpg  7496.jpg\n",
      "10783.jpg  14223.jpg  17853.jpg  21128.jpg  24465.jpg  404.jpg\t 7567.jpg\n",
      "10829.jpg  14253.jpg  17868.jpg  21135.jpg  24475.jpg  4082.jpg  7569.jpg\n",
      "10840.jpg  14256.jpg  17869.jpg  21139.jpg  24480.jpg  4086.jpg  7588.jpg\n",
      "10861.jpg  14275.jpg  17874.jpg  21150.jpg  24481.jpg  4092.jpg  7589.jpg\n",
      "10872.jpg  14306.jpg  17875.jpg  21161.jpg  24489.jpg  4116.jpg  7614.jpg\n",
      "10896.jpg  14324.jpg  17903.jpg  21170.jpg  2448.jpg   4132.jpg  7618.jpg\n",
      "10942.jpg  14325.jpg  17921.jpg  21189.jpg  2452.jpg   4138.jpg  7633.jpg\n",
      "10963.jpg  14359.jpg  17925.jpg  21206.jpg  24543.jpg  4152.jpg  7637.jpg\n",
      "10975.jpg  14364.jpg  17930.jpg  21236.jpg  24581.jpg  4161.jpg  7653.jpg\n",
      "10978.jpg  14373.jpg  17933.jpg  21237.jpg  24587.jpg  4177.jpg  7658.jpg\n",
      "10982.jpg  14399.jpg  17938.jpg  21242.jpg  24590.jpg  4204.jpg  7670.jpg\n",
      "1098.jpg   14408.jpg  1794.jpg\t 21251.jpg  24594.jpg  420.jpg\t 7699.jpg\n",
      "11022.jpg  14422.jpg  17956.jpg  21287.jpg  24597.jpg  424.jpg\t 7712.jpg\n",
      "11026.jpg  14454.jpg  17962.jpg  21313.jpg  24624.jpg  4263.jpg  7727.jpg\n",
      "11057.jpg  14491.jpg  1796.jpg\t 21322.jpg  24638.jpg  4274.jpg  7753.jpg\n",
      "1105.jpg   14500.jpg  17995.jpg  2134.jpg   24641.jpg  4287.jpg  7754.jpg\n",
      "11067.jpg  14513.jpg  17.jpg\t 21352.jpg  24645.jpg  4292.jpg  7765.jpg\n",
      "11078.jpg  14529.jpg  18005.jpg  21356.jpg  24660.jpg  4296.jpg  7790.jpg\n",
      "11083.jpg  14546.jpg  18021.jpg  21360.jpg  24678.jpg  430.jpg\t 7796.jpg\n",
      "11086.jpg  14548.jpg  18026.jpg  21372.jpg  24696.jpg  4314.jpg  7802.jpg\n",
      "11092.jpg  14556.jpg  18036.jpg  21399.jpg  24697.jpg  4338.jpg  7817.jpg\n",
      "11102.jpg  14563.jpg  18052.jpg  21402.jpg  24709.jpg  4354.jpg  781.jpg\n",
      "11106.jpg  14573.jpg  18090.jpg  2140.jpg   24714.jpg  4360.jpg  7825.jpg\n",
      "11113.jpg  14588.jpg  18094.jpg  21416.jpg  24718.jpg  4362.jpg  7826.jpg\n",
      "11115.jpg  14598.jpg  18101.jpg  21421.jpg  24725.jpg  4366.jpg  7846.jpg\n",
      "11118.jpg  14619.jpg  18105.jpg  21427.jpg  2473.jpg   4373.jpg  7855.jpg\n",
      "11119.jpg  14624.jpg  18111.jpg  21436.jpg  24748.jpg  4378.jpg  786.jpg\n",
      "11121.jpg  14655.jpg  18112.jpg  21437.jpg  24776.jpg  4389.jpg  7878.jpg\n",
      "11123.jpg  14721.jpg  1815.jpg\t 21460.jpg  24778.jpg  4390.jpg  7891.jpg\n",
      "11125.jpg  14724.jpg  18164.jpg  21471.jpg  24781.jpg  4392.jpg  7898.jpg\n",
      "11171.jpg  14742.jpg  18169.jpg  21475.jpg  24835.jpg  4393.jpg  7906.jpg\n",
      "11176.jpg  14748.jpg  18175.jpg  21484.jpg  24838.jpg  4399.jpg  7931.jpg\n",
      "1119.jpg   14778.jpg  18182.jpg  21490.jpg  24863.jpg  4435.jpg  7935.jpg\n",
      "111.jpg    1477.jpg   18199.jpg  2152.jpg   24870.jpg  4462.jpg  7936.jpg\n",
      "1122.jpg   14787.jpg  18210.jpg  21532.jpg  24880.jpg  4465.jpg  7940.jpg\n",
      "11233.jpg  14808.jpg  18230.jpg  21580.jpg  24888.jpg  4482.jpg  7951.jpg\n",
      "11255.jpg  14814.jpg  1823.jpg\t 21585.jpg  24889.jpg  451.jpg\t 8017.jpg\n",
      "11264.jpg  14846.jpg  18242.jpg  21597.jpg  24891.jpg  4570.jpg  8019.jpg\n",
      "11272.jpg  14849.jpg  18253.jpg  21599.jpg  24898.jpg  4582.jpg  801.jpg\n",
      "11278.jpg  14861.jpg  18271.jpg  21636.jpg  24919.jpg  4595.jpg  8052.jpg\n",
      "11293.jpg  14867.jpg  18275.jpg  21648.jpg  24920.jpg  45.jpg\t 8057.jpg\n",
      "11312.jpg  14882.jpg  18283.jpg  2165.jpg   24936.jpg  4602.jpg  8084.jpg\n",
      "11330.jpg  14887.jpg  18303.jpg  21681.jpg  24951.jpg  460.jpg\t 8115.jpg\n",
      "1136.jpg   14889.jpg  18309.jpg  21710.jpg  24953.jpg  4612.jpg  8123.jpg\n",
      "11385.jpg  14893.jpg  18317.jpg  21729.jpg  24971.jpg  4616.jpg  8134.jpg\n",
      "11388.jpg  14909.jpg  1831.jpg\t 2172.jpg   24976.jpg  4631.jpg  8140.jpg\n",
      "11397.jpg  14937.jpg  1832.jpg\t 21731.jpg  2497.jpg   4658.jpg  8141.jpg\n",
      "11420.jpg  14947.jpg  18341.jpg  21751.jpg  25012.jpg  4662.jpg  8155.jpg\n",
      "11429.jpg  14950.jpg  18351.jpg  21777.jpg  25028.jpg  4677.jpg  8168.jpg\n",
      "11436.jpg  14958.jpg  18355.jpg  21802.jpg  25036.jpg  4685.jpg  8173.jpg\n",
      "11438.jpg  1496.jpg   18356.jpg  21818.jpg  25091.jpg  469.jpg\t 8184.jpg\n",
      "11483.jpg  14993.jpg  18375.jpg  21827.jpg  25118.jpg  4721.jpg  8197.jpg\n",
      "11505.jpg  1499.jpg   18386.jpg  21833.jpg  25123.jpg  4739.jpg  8201.jpg\n",
      "11511.jpg  15027.jpg  18389.jpg  21834.jpg  25166.jpg  4754.jpg  8244.jpg\n",
      "11534.jpg  15031.jpg  18390.jpg  21848.jpg  25176.jpg  4764.jpg  824.jpg\n",
      "11545.jpg  15039.jpg  18458.jpg  21849.jpg  25190.jpg  4794.jpg  8256.jpg\n",
      "11548.jpg  1505.jpg   18496.jpg  21852.jpg  25206.jpg  4800.jpg  8274.jpg\n",
      "1154.jpg   15079.jpg  18509.jpg  21860.jpg  25210.jpg  4802.jpg  8288.jpg\n",
      "11566.jpg  15090.jpg  18530.jpg  21861.jpg  25231.jpg  4809.jpg  8295.jpg\n",
      "11571.jpg  15094.jpg  18532.jpg  21877.jpg  25234.jpg  4820.jpg  8340.jpg\n",
      "11576.jpg  15097.jpg  18559.jpg  21892.jpg  25242.jpg  4850.jpg  8354.jpg\n",
      "11577.jpg  15120.jpg  1855.jpg\t 21960.jpg  25250.jpg  4871.jpg  8359.jpg\n",
      "11601.jpg  15145.jpg  18560.jpg  22027.jpg  25259.jpg  4914.jpg  8374.jpg\n",
      "11603.jpg  15149.jpg  1858.jpg\t 22033.jpg  25263.jpg  4915.jpg  8377.jpg\n",
      "11641.jpg  15152.jpg  1859.jpg\t 22047.jpg  25280.jpg  4922.jpg  8385.jpg\n",
      "11659.jpg  15163.jpg  18600.jpg  22074.jpg  25302.jpg  4931.jpg  839.jpg\n",
      "1165.jpg   15166.jpg  18605.jpg  22077.jpg  25309.jpg  4936.jpg  8415.jpg\n",
      "11682.jpg  15199.jpg  18624.jpg  22122.jpg  25327.jpg  4943.jpg  8431.jpg\n",
      "11689.jpg  15220.jpg  18626.jpg  22126.jpg  25337.jpg  4949.jpg  8442.jpg\n",
      "11695.jpg  15245.jpg  18628.jpg  22135.jpg  25341.jpg  4953.jpg  8448.jpg\n",
      "1170.jpg   15256.jpg  18704.jpg  22149.jpg  2534.jpg   4954.jpg  8449.jpg\n",
      "11719.jpg  15264.jpg  18705.jpg  22167.jpg  25354.jpg  4977.jpg  844.jpg\n",
      "11766.jpg  15281.jpg  18720.jpg  22175.jpg  25361.jpg  4986.jpg  8456.jpg\n",
      "11797.jpg  15294.jpg  18742.jpg  22184.jpg  25367.jpg  5002.jpg  8458.jpg\n",
      "11817.jpg  15296.jpg  18743.jpg  22185.jpg  25413.jpg  5007.jpg  8463.jpg\n",
      "11829.jpg  15311.jpg  18749.jpg  22193.jpg  25420.jpg  501.jpg\t 8468.jpg\n",
      "11836.jpg  15315.jpg  18752.jpg  22201.jpg  25423.jpg  5026.jpg  8477.jpg\n",
      "11849.jpg  15332.jpg  18754.jpg  22226.jpg  25431.jpg  5035.jpg  8479.jpg\n",
      "11863.jpg  15342.jpg  18766.jpg  22233.jpg  25432.jpg  5056.jpg  8482.jpg\n",
      "1186.jpg   15346.jpg  18768.jpg  2223.jpg   2544.jpg   5085.jpg  8507.jpg\n",
      "11875.jpg  15352.jpg  18770.jpg  2224.jpg   25472.jpg  5087.jpg  8510.jpg\n",
      "11904.jpg  15377.jpg  18781.jpg  22255.jpg  25499.jpg  5090.jpg  8520.jpg\n",
      "11911.jpg  15378.jpg  1879.jpg\t 2226.jpg   25503.jpg  5101.jpg  8527.jpg\n",
      "11912.jpg  15392.jpg  18808.jpg  22283.jpg  25531.jpg  5102.jpg  8534.jpg\n",
      "11922.jpg  15404.jpg  18809.jpg  2228.jpg   25566.jpg  5114.jpg  8560.jpg\n",
      "11941.jpg  1542.jpg   1881.jpg\t 22293.jpg  25589.jpg  512.jpg\t 8563.jpg\n",
      "11948.jpg  15430.jpg  18847.jpg  2229.jpg   25602.jpg  513.jpg\t 8567.jpg\n",
      "1195.jpg   15435.jpg  18864.jpg  22306.jpg  25604.jpg  5142.jpg  8575.jpg\n",
      "11966.jpg  15440.jpg  18898.jpg  22316.jpg  25623.jpg  5147.jpg  8600.jpg\n",
      "11994.jpg  15445.jpg  1889.jpg\t 22346.jpg  25625.jpg  5172.jpg  8610.jpg\n",
      "12038.jpg  15448.jpg  18906.jpg  22368.jpg  25634.jpg  5175.jpg  8611.jpg\n",
      "1204.jpg   15451.jpg  18917.jpg  22371.jpg  25640.jpg  5182.jpg  8614.jpg\n",
      "12056.jpg  15455.jpg  18934.jpg  22374.jpg  25669.jpg  5184.jpg  8620.jpg\n",
      "12067.jpg  1545.jpg   18947.jpg  22378.jpg  25700.jpg  5190.jpg  8674.jpg\n",
      "12088.jpg  15474.jpg  18972.jpg  22390.jpg  2571.jpg   5207.jpg  8693.jpg\n",
      "12095.jpg  15475.jpg  18980.jpg  2239.jpg   25728.jpg  5213.jpg  8709.jpg\n",
      "12106.jpg  15479.jpg  19006.jpg  22410.jpg  2572.jpg   5215.jpg  8715.jpg\n",
      "12127.jpg  15493.jpg  19007.jpg  22422.jpg  25746.jpg  5230.jpg  8724.jpg\n",
      "1212.jpg   15505.jpg  19012.jpg  2242.jpg   25749.jpg  5239.jpg  8734.jpg\n",
      "12132.jpg  15514.jpg  19019.jpg  22469.jpg  25760.jpg  5242.jpg  8740.jpg\n",
      "12133.jpg  15524.jpg  19027.jpg  22472.jpg  25771.jpg  5259.jpg  8748.jpg\n",
      "12153.jpg  15531.jpg  19028.jpg  22478.jpg  25782.jpg  5262.jpg  8756.jpg\n",
      "1217.jpg   15575.jpg  19041.jpg  22490.jpg  25796.jpg  5273.jpg  8768.jpg\n",
      "12198.jpg  15591.jpg  19048.jpg  22522.jpg  25802.jpg  5294.jpg  8781.jpg\n",
      "12204.jpg  15606.jpg  19054.jpg  22524.jpg  25806.jpg  5297.jpg  8789.jpg\n",
      "12213.jpg  15608.jpg  19058.jpg  22567.jpg  25858.jpg  5319.jpg  880.jpg\n",
      "12214.jpg  15616.jpg  1907.jpg\t 2256.jpg   25930.jpg  5320.jpg  8817.jpg\n",
      "12225.jpg  15623.jpg  19083.jpg  2257.jpg   25934.jpg  5338.jpg  8841.jpg\n",
      "12230.jpg  15630.jpg  19104.jpg  22595.jpg  25963.jpg  5339.jpg  8850.jpg\n",
      "12251.jpg  15646.jpg  19105.jpg  22598.jpg  25973.jpg  5340.jpg  8868.jpg\n",
      "12278.jpg  15681.jpg  19113.jpg  225.jpg    25975.jpg  5361.jpg  886.jpg\n",
      "12308.jpg  1570.jpg   19158.jpg  22606.jpg  2597.jpg   5371.jpg  8873.jpg\n",
      "12315.jpg  1571.jpg   19165.jpg  22614.jpg  26025.jpg  5387.jpg  8884.jpg\n",
      "12317.jpg  15734.jpg  19198.jpg  22617.jpg  26095.jpg  5397.jpg  8891.jpg\n",
      "12325.jpg  15757.jpg  19200.jpg  22635.jpg  26107.jpg  5403.jpg  8916.jpg\n",
      "12326.jpg  15776.jpg  19201.jpg  2263.jpg   26144.jpg  5404.jpg  8919.jpg\n",
      "12329.jpg  1577.jpg   19216.jpg  22655.jpg  26160.jpg  540.jpg\t 8933.jpg\n",
      "12339.jpg  15802.jpg  19222.jpg  22672.jpg  26161.jpg  5416.jpg  8940.jpg\n",
      "12381.jpg  15828.jpg  19240.jpg  22687.jpg  26185.jpg  5422.jpg  8950.jpg\n",
      "12421.jpg  1582.jpg   19244.jpg  22692.jpg  26187.jpg  5460.jpg  8955.jpg\n",
      "12461.jpg  15838.jpg  19254.jpg  22693.jpg  26238.jpg  5480.jpg  8961.jpg\n",
      "12464.jpg  15844.jpg  19256.jpg  22696.jpg  26249.jpg  5506.jpg  9012.jpg\n",
      "12475.jpg  15859.jpg  1925.jpg\t 22704.jpg  26271.jpg  5525.jpg  9018.jpg\n",
      "12486.jpg  15863.jpg  19299.jpg  22705.jpg  26277.jpg  5533.jpg  9050.jpg\n",
      "1248.jpg   15871.jpg  19307.jpg  22709.jpg  26319.jpg  5538.jpg  9070.jpg\n",
      "12492.jpg  15889.jpg  19314.jpg  22764.jpg  2632.jpg   555.jpg\t 9080.jpg\n",
      "12506.jpg  15915.jpg  19335.jpg  22765.jpg  26330.jpg  5593.jpg  908.jpg\n",
      "12513.jpg  15921.jpg  19358.jpg  22808.jpg  26346.jpg  5616.jpg  9094.jpg\n",
      "12547.jpg  15939.jpg  19365.jpg  22828.jpg  26376.jpg  5624.jpg  9147.jpg\n",
      "12551.jpg  1594.jpg   19377.jpg  22841.jpg  26407.jpg  5638.jpg  9151.jpg\n",
      "12568.jpg  15996.jpg  19382.jpg  22844.jpg  2640.jpg   5647.jpg  9156.jpg\n",
      "12575.jpg  16006.jpg  19389.jpg  22852.jpg  2641.jpg   564.jpg\t 9157.jpg\n",
      "12588.jpg  16008.jpg  19394.jpg  22855.jpg  26427.jpg  5660.jpg  9177.jpg\n",
      "12600.jpg  16018.jpg  1940.jpg\t 22883.jpg  26439.jpg  5671.jpg  9187.jpg\n",
      "1260.jpg   16023.jpg  19412.jpg  22890.jpg  26460.jpg  5672.jpg  9196.jpg\n",
      "12632.jpg  16098.jpg  1943.jpg\t 22918.jpg  2646.jpg   5680.jpg  91.jpg\n",
      "12638.jpg  16100.jpg  19470.jpg  2291.jpg   26491.jpg  5686.jpg  9200.jpg\n",
      "12662.jpg  16119.jpg  19480.jpg  22920.jpg  264.jpg    5711.jpg  9229.jpg\n",
      "12688.jpg  16136.jpg  19499.jpg  22922.jpg  26501.jpg  571.jpg\t 926.jpg\n",
      "12694.jpg  16137.jpg  19522.jpg  22954.jpg  26509.jpg  5729.jpg  931.jpg\n",
      "12717.jpg  16157.jpg  19524.jpg  22960.jpg  26515.jpg  5733.jpg  9327.jpg\n",
      "12742.jpg  16194.jpg  19532.jpg  22963.jpg  26519.jpg  5737.jpg  9330.jpg\n",
      "12750.jpg  16199.jpg  19544.jpg  22994.jpg  2656.jpg   5751.jpg  9331.jpg\n",
      "12774.jpg  1619.jpg   19547.jpg  22997.jpg  2658.jpg   5754.jpg  9335.jpg\n",
      "12797.jpg  16200.jpg  19556.jpg  23005.jpg  2667.jpg   5765.jpg  9353.jpg\n",
      "12800.jpg  16205.jpg  19566.jpg  23010.jpg  2668.jpg   5783.jpg  9373.jpg\n",
      "12837.jpg  16226.jpg  19580.jpg  23021.jpg  26.jpg     5786.jpg  9378.jpg\n",
      "12838.jpg  16254.jpg  19591.jpg  23025.jpg  2719.jpg   5789.jpg  9407.jpg\n",
      "12848.jpg  16256.jpg  19603.jpg  23036.jpg  2725.jpg   5791.jpg  9415.jpg\n",
      "1285.jpg   1628.jpg   19608.jpg  23037.jpg  2739.jpg   5830.jpg  9419.jpg\n",
      "12865.jpg  16303.jpg  19620.jpg  23042.jpg  2766.jpg   583.jpg\t 942.jpg\n",
      "12878.jpg  16345.jpg  19625.jpg  23049.jpg  2771.jpg   5841.jpg  9433.jpg\n",
      "12887.jpg  16350.jpg  19657.jpg  23086.jpg  2772.jpg   5863.jpg  9435.jpg\n",
      "12898.jpg  16373.jpg  19659.jpg  23089.jpg  2775.jpg   5866.jpg  9459.jpg\n",
      "128.jpg    16402.jpg  1965.jpg\t 23096.jpg  2780.jpg   5881.jpg  946.jpg\n",
      "12913.jpg  1640.jpg   19703.jpg  23099.jpg  278.jpg    5892.jpg  9475.jpg\n",
      "12944.jpg  16428.jpg  19713.jpg  2309.jpg   2792.jpg   5910.jpg  9490.jpg\n",
      "12948.jpg  1642.jpg   1971.jpg\t 23100.jpg  2794.jpg   5922.jpg  9501.jpg\n",
      "12951.jpg  16431.jpg  19720.jpg  23101.jpg  2795.jpg   5949.jpg  9503.jpg\n",
      "12953.jpg  16474.jpg  19801.jpg  23116.jpg  2802.jpg   5952.jpg  9516.jpg\n",
      "12966.jpg  1647.jpg   19802.jpg  23119.jpg  2822.jpg   5977.jpg  9530.jpg\n",
      "12995.jpg  16487.jpg  19805.jpg  23135.jpg  2853.jpg   5982.jpg  9555.jpg\n",
      "13018.jpg  16490.jpg  19812.jpg  23140.jpg  2856.jpg   5983.jpg  9583.jpg\n",
      "13021.jpg  16502.jpg  19827.jpg  23147.jpg  2866.jpg   600.jpg\t 958.jpg\n",
      "13031.jpg  16527.jpg  19832.jpg  23158.jpg  2875.jpg   6027.jpg  9596.jpg\n",
      "13073.jpg  16531.jpg  19835.jpg  23159.jpg  2886.jpg   6044.jpg  9597.jpg\n",
      "13113.jpg  16545.jpg  19836.jpg  23176.jpg  288.jpg    6047.jpg  9598.jpg\n",
      "13114.jpg  16554.jpg  19839.jpg  2317.jpg   2896.jpg   6049.jpg  95.jpg\n",
      "13134.jpg  16562.jpg  19848.jpg  2319.jpg   2897.jpg   6073.jpg  9611.jpg\n",
      "1313.jpg   16567.jpg  19853.jpg  23237.jpg  2921.jpg   6085.jpg  9631.jpg\n",
      "13150.jpg  16576.jpg  19876.jpg  23269.jpg  2941.jpg   6105.jpg  9646.jpg\n",
      "13154.jpg  1657.jpg   19906.jpg  23270.jpg  2966.jpg   6121.jpg  965.jpg\n",
      "13164.jpg  16626.jpg  19919.jpg  23284.jpg  2977.jpg   6139.jpg  9665.jpg\n",
      "13180.jpg  16631.jpg  19940.jpg  23288.jpg  2991.jpg   6149.jpg  9671.jpg\n",
      "13193.jpg  16635.jpg  19948.jpg  23291.jpg  3013.jpg   6193.jpg  9682.jpg\n",
      "13214.jpg  16640.jpg  19957.jpg  23298.jpg  3030.jpg   6207.jpg  9693.jpg\n",
      "13220.jpg  16647.jpg  19982.jpg  23307.jpg  3050.jpg   6248.jpg  9721.jpg\n",
      "13249.jpg  16652.jpg  19987.jpg  23318.jpg  3052.jpg   6254.jpg  9727.jpg\n",
      "13256.jpg  16658.jpg  20012.jpg  23330.jpg  3053.jpg   6262.jpg  977.jpg\n",
      "13265.jpg  16668.jpg  20020.jpg  23345.jpg  3054.jpg   628.jpg\t 9785.jpg\n",
      "13268.jpg  16674.jpg  20036.jpg  23370.jpg  306.jpg    6291.jpg  9797.jpg\n",
      "13269.jpg  16700.jpg  20048.jpg  23416.jpg  3070.jpg   6322.jpg  9809.jpg\n",
      "13271.jpg  16705.jpg  20057.jpg  23444.jpg  3085.jpg   6367.jpg  9818.jpg\n",
      "13298.jpg  16734.jpg  20073.jpg  23477.jpg  3106.jpg   6375.jpg  9822.jpg\n",
      "13305.jpg  16744.jpg  20080.jpg  23480.jpg  3127.jpg   6394.jpg  9825.jpg\n",
      "1331.jpg   16792.jpg  20086.jpg  23504.jpg  3134.jpg   6399.jpg  9830.jpg\n",
      "13320.jpg  16796.jpg  20099.jpg  23525.jpg  3159.jpg   6430.jpg  9851.jpg\n",
      "13333.jpg  16800.jpg  20107.jpg  23548.jpg  3181.jpg   6437.jpg  9865.jpg\n",
      "13336.jpg  16822.jpg  20130.jpg  2355.jpg   3194.jpg   6440.jpg  9873.jpg\n",
      "1333.jpg   16844.jpg  20137.jpg  23568.jpg  3199.jpg   6447.jpg  9879.jpg\n",
      "133.jpg    16845.jpg  20141.jpg  23576.jpg  3229.jpg   6473.jpg  9892.jpg\n",
      "13409.jpg  16857.jpg  20144.jpg  23588.jpg  3261.jpg   6482.jpg  9901.jpg\n",
      "13414.jpg  16870.jpg  20146.jpg  2358.jpg   3263.jpg   6490.jpg  9915.jpg\n",
      "13423.jpg  16873.jpg  20147.jpg  23595.jpg  3275.jpg   64.jpg\t 9916.jpg\n",
      "13439.jpg  16875.jpg  20149.jpg  2359.jpg   3279.jpg   6508.jpg  9945.jpg\n",
      "13445.jpg  16896.jpg  20180.jpg  23613.jpg  3281.jpg   6525.jpg  9963.jpg\n",
      "13447.jpg  16915.jpg  20208.jpg  23628.jpg  3283.jpg   65.jpg\t 9968.jpg\n",
      "13451.jpg  16922.jpg  2021.jpg\t 23654.jpg  328.jpg    6611.jpg  9969.jpg\n",
      "13474.jpg  16943.jpg  20237.jpg  23669.jpg  3294.jpg   6628.jpg  9992.jpg\n",
      "13475.jpg  16962.jpg  20257.jpg  23677.jpg  3297.jpg   6633.jpg  9.jpg\n",
      "1348.jpg   16971.jpg  20308.jpg  23695.jpg  3314.jpg   6634.jpg\n",
      "13493.jpg  17008.jpg  20321.jpg  23700.jpg  3322.jpg   6643.jpg\n"
     ]
    }
   ],
   "source": [
    "! ls data/train/old\n"
   ]
  },
  {
   "cell_type": "code",
   "execution_count": 39,
   "id": "a43c7891-f455-4618-842c-bab5909647eb",
   "metadata": {
    "execution": {
     "iopub.execute_input": "2025-01-22T18:36:10.779020Z",
     "iopub.status.busy": "2025-01-22T18:36:10.778717Z",
     "iopub.status.idle": "2025-01-22T18:36:10.788456Z",
     "shell.execute_reply": "2025-01-22T18:36:10.787827Z",
     "shell.execute_reply.started": "2025-01-22T18:36:10.778996Z"
    }
   },
   "outputs": [
    {
     "data": {
      "image/jpeg": "[encoded data removed]",
      "image/png": "[encoded data removed]",
      "text/plain": [
       "<PIL.JpegImagePlugin.JpegImageFile image mode=RGB size=139x181>"
      ]
     },
     "execution_count": 39,
     "metadata": {},
     "output_type": "execute_result"
    }
   ],
   "source": [
    "path = './data/train/old'\n",
    "#name = '82.headshot.jpg'\n",
    "name = '10019.jpg'\n",
    "fullname = f'{path}/{name}'\n",
    "load_img(fullname)"
   ]
  },
  {
   "cell_type": "code",
   "execution_count": 40,
   "id": "c95643ba-6fcd-4bc4-adfd-6706ba6bfe4c",
   "metadata": {
    "execution": {
     "iopub.execute_input": "2025-01-22T18:36:10.789382Z",
     "iopub.status.busy": "2025-01-22T18:36:10.789123Z",
     "iopub.status.idle": "2025-01-22T18:36:10.794195Z",
     "shell.execute_reply": "2025-01-22T18:36:10.793699Z",
     "shell.execute_reply.started": "2025-01-22T18:36:10.789364Z"
    }
   },
   "outputs": [
    {
     "data": {
      "text/plain": [
       "(200, 200, 3)"
      ]
     },
     "execution_count": 40,
     "metadata": {},
     "output_type": "execute_result"
    }
   ],
   "source": [
    "img = load_img(fullname, target_size=(200, 200))\n",
    "x = np.array(img)\n",
    "x.shape"
   ]
  },
  {
   "cell_type": "code",
   "execution_count": 41,
   "id": "4382f64c-bb4c-4a7c-a6ba-ddea8171fbe7",
   "metadata": {
    "execution": {
     "iopub.execute_input": "2025-01-22T18:36:10.795129Z",
     "iopub.status.busy": "2025-01-22T18:36:10.794817Z",
     "iopub.status.idle": "2025-01-22T18:36:10.803026Z",
     "shell.execute_reply": "2025-01-22T18:36:10.802483Z",
     "shell.execute_reply.started": "2025-01-22T18:36:10.795111Z"
    }
   },
   "outputs": [
    {
     "data": {
      "image/jpeg": "[encoded data removed]",
      "image/png": "[encoded data removed]",
      "text/plain": [
       "<PIL.Image.Image image mode=RGB size=200x200>"
      ]
     },
     "execution_count": 41,
     "metadata": {},
     "output_type": "execute_result"
    }
   ],
   "source": [
    "img"
   ]
  },
  {
   "cell_type": "markdown",
   "id": "83ae4602-1938-44ed-b0ea-1709d41f6a41",
   "metadata": {},
   "source": [
    "Model from scratch"
   ]
  },
  {
   "cell_type": "code",
   "execution_count": 42,
   "id": "c76c0378-2c5b-4c05-b764-117bb566290d",
   "metadata": {
    "execution": {
     "iopub.execute_input": "2025-01-22T18:36:10.803851Z",
     "iopub.status.busy": "2025-01-22T18:36:10.803618Z",
     "iopub.status.idle": "2025-01-22T18:36:10.859646Z",
     "shell.execute_reply": "2025-01-22T18:36:10.859140Z",
     "shell.execute_reply.started": "2025-01-22T18:36:10.803834Z"
    }
   },
   "outputs": [],
   "source": [
    "model = models.Sequential()\n",
    "\n",
    "model.add(layers.Conv2D(32, (3, 3), activation='relu',\n",
    "                        input_shape=(200, 200, 3)))\n",
    "model.add(layers.MaxPooling2D((2, 2)))\n",
    "model.add(layers.Flatten())\n",
    "model.add(layers.Dense(64, activation='relu'))\n",
    "model.add(layers.Dense(1, activation='sigmoid'))\n"
   ]
  },
  {
   "cell_type": "code",
   "execution_count": 43,
   "id": "b740f606-acea-4835-9da7-efd3d9909ff4",
   "metadata": {
    "execution": {
     "iopub.execute_input": "2025-01-22T18:36:10.860725Z",
     "iopub.status.busy": "2025-01-22T18:36:10.860358Z",
     "iopub.status.idle": "2025-01-22T18:36:10.870946Z",
     "shell.execute_reply": "2025-01-22T18:36:10.870417Z",
     "shell.execute_reply.started": "2025-01-22T18:36:10.860703Z"
    }
   },
   "outputs": [],
   "source": [
    "model.compile(loss='binary_crossentropy',\\\n",
    "             optimizer=optimizers.SGD(learning_rate=0.002, momentum=0.8),\\\n",
    "             metrics=['acc'])"
   ]
  },
  {
   "cell_type": "code",
   "execution_count": 44,
   "id": "fb7234fa-b37c-4c6c-92ea-24b4c33c53e8",
   "metadata": {
    "execution": {
     "iopub.execute_input": "2025-01-22T18:36:10.871826Z",
     "iopub.status.busy": "2025-01-22T18:36:10.871562Z",
     "iopub.status.idle": "2025-01-22T18:36:10.884673Z",
     "shell.execute_reply": "2025-01-22T18:36:10.884183Z",
     "shell.execute_reply.started": "2025-01-22T18:36:10.871807Z"
    }
   },
   "outputs": [
    {
     "data": {
      "text/html": [
       "<pre style=\"white-space:pre;overflow-x:auto;line-height:normal;font-family:Menlo,'DejaVu Sans Mono',consolas,'Courier New',monospace\"><span style=\"font-weight: bold\">Model: \"sequential_1\"</span>\n",
       "</pre>\n"
      ],
      "text/plain": [
       "\u001b[1mModel: \"sequential_1\"\u001b[0m\n"
      ]
     },
     "metadata": {},
     "output_type": "display_data"
    },
    {
     "data": {
      "text/html": [
       "<pre style=\"white-space:pre;overflow-x:auto;line-height:normal;font-family:Menlo,'DejaVu Sans Mono',consolas,'Courier New',monospace\">┏━━━━━━━━━━━━━━━━━━━━━━━━━━━━━━━━━┳━━━━━━━━━━━━━━━━━━━━━━━━┳━━━━━━━━━━━━━━━┓\n",
       "┃<span style=\"font-weight: bold\"> Layer (type)                    </span>┃<span style=\"font-weight: bold\"> Output Shape           </span>┃<span style=\"font-weight: bold\">       Param # </span>┃\n",
       "┡━━━━━━━━━━━━━━━━━━━━━━━━━━━━━━━━━╇━━━━━━━━━━━━━━━━━━━━━━━━╇━━━━━━━━━━━━━━━┩\n",
       "│ conv2d_9 (<span style=\"color: #0087ff; text-decoration-color: #0087ff\">Conv2D</span>)               │ (<span style=\"color: #00d7ff; text-decoration-color: #00d7ff\">None</span>, <span style=\"color: #00af00; text-decoration-color: #00af00\">198</span>, <span style=\"color: #00af00; text-decoration-color: #00af00\">198</span>, <span style=\"color: #00af00; text-decoration-color: #00af00\">32</span>)   │           <span style=\"color: #00af00; text-decoration-color: #00af00\">896</span> │\n",
       "├─────────────────────────────────┼────────────────────────┼───────────────┤\n",
       "│ max_pooling2d_1 (<span style=\"color: #0087ff; text-decoration-color: #0087ff\">MaxPooling2D</span>)  │ (<span style=\"color: #00d7ff; text-decoration-color: #00d7ff\">None</span>, <span style=\"color: #00af00; text-decoration-color: #00af00\">99</span>, <span style=\"color: #00af00; text-decoration-color: #00af00\">99</span>, <span style=\"color: #00af00; text-decoration-color: #00af00\">32</span>)     │             <span style=\"color: #00af00; text-decoration-color: #00af00\">0</span> │\n",
       "├─────────────────────────────────┼────────────────────────┼───────────────┤\n",
       "│ flatten_1 (<span style=\"color: #0087ff; text-decoration-color: #0087ff\">Flatten</span>)             │ (<span style=\"color: #00d7ff; text-decoration-color: #00d7ff\">None</span>, <span style=\"color: #00af00; text-decoration-color: #00af00\">313632</span>)         │             <span style=\"color: #00af00; text-decoration-color: #00af00\">0</span> │\n",
       "├─────────────────────────────────┼────────────────────────┼───────────────┤\n",
       "│ dense_4 (<span style=\"color: #0087ff; text-decoration-color: #0087ff\">Dense</span>)                 │ (<span style=\"color: #00d7ff; text-decoration-color: #00d7ff\">None</span>, <span style=\"color: #00af00; text-decoration-color: #00af00\">64</span>)             │    <span style=\"color: #00af00; text-decoration-color: #00af00\">20,072,512</span> │\n",
       "├─────────────────────────────────┼────────────────────────┼───────────────┤\n",
       "│ dense_5 (<span style=\"color: #0087ff; text-decoration-color: #0087ff\">Dense</span>)                 │ (<span style=\"color: #00d7ff; text-decoration-color: #00d7ff\">None</span>, <span style=\"color: #00af00; text-decoration-color: #00af00\">1</span>)              │            <span style=\"color: #00af00; text-decoration-color: #00af00\">65</span> │\n",
       "└─────────────────────────────────┴────────────────────────┴───────────────┘\n",
       "</pre>\n"
      ],
      "text/plain": [
       "┏━━━━━━━━━━━━━━━━━━━━━━━━━━━━━━━━━┳━━━━━━━━━━━━━━━━━━━━━━━━┳━━━━━━━━━━━━━━━┓\n",
       "┃\u001b[1m \u001b[0m\u001b[1mLayer (type)                   \u001b[0m\u001b[1m \u001b[0m┃\u001b[1m \u001b[0m\u001b[1mOutput Shape          \u001b[0m\u001b[1m \u001b[0m┃\u001b[1m \u001b[0m\u001b[1m      Param #\u001b[0m\u001b[1m \u001b[0m┃\n",
       "┡━━━━━━━━━━━━━━━━━━━━━━━━━━━━━━━━━╇━━━━━━━━━━━━━━━━━━━━━━━━╇━━━━━━━━━━━━━━━┩\n",
       "│ conv2d_9 (\u001b[38;5;33mConv2D\u001b[0m)               │ (\u001b[38;5;45mNone\u001b[0m, \u001b[38;5;34m198\u001b[0m, \u001b[38;5;34m198\u001b[0m, \u001b[38;5;34m32\u001b[0m)   │           \u001b[38;5;34m896\u001b[0m │\n",
       "├─────────────────────────────────┼────────────────────────┼───────────────┤\n",
       "│ max_pooling2d_1 (\u001b[38;5;33mMaxPooling2D\u001b[0m)  │ (\u001b[38;5;45mNone\u001b[0m, \u001b[38;5;34m99\u001b[0m, \u001b[38;5;34m99\u001b[0m, \u001b[38;5;34m32\u001b[0m)     │             \u001b[38;5;34m0\u001b[0m │\n",
       "├─────────────────────────────────┼────────────────────────┼───────────────┤\n",
       "│ flatten_1 (\u001b[38;5;33mFlatten\u001b[0m)             │ (\u001b[38;5;45mNone\u001b[0m, \u001b[38;5;34m313632\u001b[0m)         │             \u001b[38;5;34m0\u001b[0m │\n",
       "├─────────────────────────────────┼────────────────────────┼───────────────┤\n",
       "│ dense_4 (\u001b[38;5;33mDense\u001b[0m)                 │ (\u001b[38;5;45mNone\u001b[0m, \u001b[38;5;34m64\u001b[0m)             │    \u001b[38;5;34m20,072,512\u001b[0m │\n",
       "├─────────────────────────────────┼────────────────────────┼───────────────┤\n",
       "│ dense_5 (\u001b[38;5;33mDense\u001b[0m)                 │ (\u001b[38;5;45mNone\u001b[0m, \u001b[38;5;34m1\u001b[0m)              │            \u001b[38;5;34m65\u001b[0m │\n",
       "└─────────────────────────────────┴────────────────────────┴───────────────┘\n"
      ]
     },
     "metadata": {},
     "output_type": "display_data"
    },
    {
     "data": {
      "text/html": [
       "<pre style=\"white-space:pre;overflow-x:auto;line-height:normal;font-family:Menlo,'DejaVu Sans Mono',consolas,'Courier New',monospace\"><span style=\"font-weight: bold\"> Total params: </span><span style=\"color: #00af00; text-decoration-color: #00af00\">20,073,473</span> (76.57 MB)\n",
       "</pre>\n"
      ],
      "text/plain": [
       "\u001b[1m Total params: \u001b[0m\u001b[38;5;34m20,073,473\u001b[0m (76.57 MB)\n"
      ]
     },
     "metadata": {},
     "output_type": "display_data"
    },
    {
     "data": {
      "text/html": [
       "<pre style=\"white-space:pre;overflow-x:auto;line-height:normal;font-family:Menlo,'DejaVu Sans Mono',consolas,'Courier New',monospace\"><span style=\"font-weight: bold\"> Trainable params: </span><span style=\"color: #00af00; text-decoration-color: #00af00\">20,073,473</span> (76.57 MB)\n",
       "</pre>\n"
      ],
      "text/plain": [
       "\u001b[1m Trainable params: \u001b[0m\u001b[38;5;34m20,073,473\u001b[0m (76.57 MB)\n"
      ]
     },
     "metadata": {},
     "output_type": "display_data"
    },
    {
     "data": {
      "text/html": [
       "<pre style=\"white-space:pre;overflow-x:auto;line-height:normal;font-family:Menlo,'DejaVu Sans Mono',consolas,'Courier New',monospace\"><span style=\"font-weight: bold\"> Non-trainable params: </span><span style=\"color: #00af00; text-decoration-color: #00af00\">0</span> (0.00 B)\n",
       "</pre>\n"
      ],
      "text/plain": [
       "\u001b[1m Non-trainable params: \u001b[0m\u001b[38;5;34m0\u001b[0m (0.00 B)\n"
      ]
     },
     "metadata": {},
     "output_type": "display_data"
    }
   ],
   "source": [
    "model.summary()"
   ]
  },
  {
   "cell_type": "markdown",
   "id": "937f1f76-f46a-42af-8975-c2040f6140bf",
   "metadata": {},
   "source": [
    "Transfer learning: Reusing Imagenet model"
   ]
  },
  {
   "cell_type": "code",
   "execution_count": 45,
   "id": "ad19a574-c019-45fb-8749-505ca40fc02f",
   "metadata": {
    "execution": {
     "iopub.execute_input": "2025-01-22T18:36:10.885896Z",
     "iopub.status.busy": "2025-01-22T18:36:10.885277Z",
     "iopub.status.idle": "2025-01-22T18:36:10.888554Z",
     "shell.execute_reply": "2025-01-22T18:36:10.887946Z",
     "shell.execute_reply.started": "2025-01-22T18:36:10.885877Z"
    }
   },
   "outputs": [],
   "source": [
    "from keras.applications.xception import Xception"
   ]
  },
  {
   "cell_type": "code",
   "execution_count": 61,
   "id": "69fb9e5f-e756-4210-a742-0b6e975afc16",
   "metadata": {
    "execution": {
     "iopub.execute_input": "2025-01-22T18:50:25.792187Z",
     "iopub.status.busy": "2025-01-22T18:50:25.791814Z",
     "iopub.status.idle": "2025-01-22T18:50:25.796869Z",
     "shell.execute_reply": "2025-01-22T18:50:25.796151Z",
     "shell.execute_reply.started": "2025-01-22T18:50:25.792163Z"
    }
   },
   "outputs": [],
   "source": [
    "# modify create model function\n",
    "def create_model(learning_rate=0.001, size_inner=100):\n",
    "  base_model = Xception(\n",
    "      weights='imagenet',\n",
    "      include_top=False,\n",
    "      input_shape=(200, 200, 3)\n",
    "  )\n",
    "  base_model.trainable = False\n",
    "\n",
    "  inputs = keras.Input(\n",
    "      shape=(200,200,3)\n",
    "  )\n",
    "\n",
    "  base = base_model(inputs, training=False)\n",
    "\n",
    "  vectors = keras.layers.GlobalAveragePooling2D()(base)\n",
    "\n",
    "  # adding inner layer\n",
    "  inner = keras.layers.Dense(size_inner, activation='relu')(vectors)\n",
    "\n",
    "  # 2 classes\n",
    "  outputs = keras.layers.Dense(2)(inner)\n",
    "\n",
    "  model = keras.Model(inputs, outputs)\n",
    "\n",
    "  optimizer = keras.optimizers.Adam(learning_rate=learning_rate)\n",
    "\n",
    "  loss = keras.losses.SparseCategoricalCrossentropy(\n",
    "      from_logits=True\n",
    "  )\n",
    "\n",
    "  model.compile(\n",
    "      optimizer=optimizer,\n",
    "      loss=loss,\n",
    "      metrics=['accuracy']\n",
    "  )\n",
    "\n",
    "  return model\n"
   ]
  },
  {
   "cell_type": "code",
   "execution_count": 62,
   "id": "2585bf75-c321-4eaf-883a-b69bdfaab958",
   "metadata": {
    "execution": {
     "iopub.execute_input": "2025-01-22T18:50:30.446920Z",
     "iopub.status.busy": "2025-01-22T18:50:30.446603Z",
     "iopub.status.idle": "2025-01-22T18:50:30.450284Z",
     "shell.execute_reply": "2025-01-22T18:50:30.449690Z",
     "shell.execute_reply.started": "2025-01-22T18:50:30.446897Z"
    }
   },
   "outputs": [],
   "source": [
    "train_dir = 'data/train'\n",
    "test_dir = 'data/test'\n",
    "\n",
    "#train_datagen = ImageDataGenerator(rescale=1./255)\n",
    "#val_datagen = ImageDataGenerator(rescale=1./255)\n",
    "train_datagen = ImageDataGenerator(\n",
    "    preprocessing_function=preprocess_input\n",
    ")\n",
    "val_datagen = ImageDataGenerator(\n",
    "    preprocessing_function=preprocess_input\n",
    ")"
   ]
  },
  {
   "cell_type": "code",
   "execution_count": 63,
   "id": "d73e469b-1625-4147-a3b8-a55006580d34",
   "metadata": {
    "execution": {
     "iopub.execute_input": "2025-01-22T18:50:32.181010Z",
     "iopub.status.busy": "2025-01-22T18:50:32.180669Z",
     "iopub.status.idle": "2025-01-22T18:50:32.308685Z",
     "shell.execute_reply": "2025-01-22T18:50:32.308152Z",
     "shell.execute_reply.started": "2025-01-22T18:50:32.180988Z"
    }
   },
   "outputs": [
    {
     "name": "stdout",
     "output_type": "stream",
     "text": [
      "Found 6830 images belonging to 2 classes.\n"
     ]
    }
   ],
   "source": [
    "train_generator = train_datagen.flow_from_directory(\n",
    "    train_dir,\n",
    "    target_size=(200, 200),\n",
    "    batch_size=20,\n",
    "    class_mode='binary'\n",
    ")"
   ]
  },
  {
   "cell_type": "code",
   "execution_count": 64,
   "id": "d7d403ea-216a-4cb0-8751-b42a309d3930",
   "metadata": {
    "execution": {
     "iopub.execute_input": "2025-01-22T18:50:33.408118Z",
     "iopub.status.busy": "2025-01-22T18:50:33.407768Z",
     "iopub.status.idle": "2025-01-22T18:50:33.412479Z",
     "shell.execute_reply": "2025-01-22T18:50:33.411847Z",
     "shell.execute_reply.started": "2025-01-22T18:50:33.408096Z"
    }
   },
   "outputs": [
    {
     "data": {
      "text/plain": [
       "{'old': 0, 'young': 1}"
      ]
     },
     "execution_count": 64,
     "metadata": {},
     "output_type": "execute_result"
    }
   ],
   "source": [
    "train_generator.class_indices"
   ]
  },
  {
   "cell_type": "code",
   "execution_count": 65,
   "id": "f7748e29-2b49-47a9-995e-443315be02f8",
   "metadata": {
    "execution": {
     "iopub.execute_input": "2025-01-22T18:50:39.474355Z",
     "iopub.status.busy": "2025-01-22T18:50:39.473997Z",
     "iopub.status.idle": "2025-01-22T18:50:39.529931Z",
     "shell.execute_reply": "2025-01-22T18:50:39.529372Z",
     "shell.execute_reply.started": "2025-01-22T18:50:39.474334Z"
    }
   },
   "outputs": [
    {
     "name": "stdout",
     "output_type": "stream",
     "text": [
      "Found 2277 images belonging to 2 classes.\n"
     ]
    }
   ],
   "source": [
    "validation_generator = val_datagen.flow_from_directory(\n",
    "    test_dir,\n",
    "    target_size=(200, 200),\n",
    "    batch_size=20,\n",
    "    class_mode='binary'\n",
    ")"
   ]
  },
  {
   "cell_type": "code",
   "execution_count": 66,
   "id": "6c2869ad-4db7-45af-935e-f37a786477f3",
   "metadata": {
    "execution": {
     "iopub.execute_input": "2025-01-22T18:50:40.461341Z",
     "iopub.status.busy": "2025-01-22T18:50:40.461008Z",
     "iopub.status.idle": "2025-01-22T18:50:40.496143Z",
     "shell.execute_reply": "2025-01-22T18:50:40.495506Z",
     "shell.execute_reply.started": "2025-01-22T18:50:40.461321Z"
    }
   },
   "outputs": [
    {
     "name": "stdout",
     "output_type": "stream",
     "text": [
      "data batch shape: (20, 200, 200, 3)\n",
      "labels batch shape: (20,)\n"
     ]
    }
   ],
   "source": [
    "for data_batch, labels_batch in train_generator:\n",
    "    print('data batch shape:', data_batch.shape)\n",
    "    print('labels batch shape:', labels_batch.shape)\n",
    "    break"
   ]
  },
  {
   "cell_type": "code",
   "execution_count": 75,
   "id": "4d195b76-4263-4009-a701-12166c660200",
   "metadata": {
    "execution": {
     "iopub.execute_input": "2025-01-22T18:59:51.351620Z",
     "iopub.status.busy": "2025-01-22T18:59:51.351272Z",
     "iopub.status.idle": "2025-01-22T18:59:51.354986Z",
     "shell.execute_reply": "2025-01-22T18:59:51.354285Z",
     "shell.execute_reply.started": "2025-01-22T18:59:51.351599Z"
    }
   },
   "outputs": [],
   "source": [
    "# Create checkpoint\n",
    "checkpoint = keras.callbacks.ModelCheckpoint(\n",
    "    'xception_v1_{epoch:02d}_{val_accuracy:.3f}.keras',\n",
    "    save_best_only=True,\n",
    "    monitor='val_accuracy',\n",
    "    mode='max'#max monitor variable\n",
    ")"
   ]
  },
  {
   "cell_type": "code",
   "execution_count": 68,
   "id": "5ca78625-d163-41e6-9efa-8ea363ba64d7",
   "metadata": {
    "execution": {
     "iopub.execute_input": "2025-01-22T18:50:42.706874Z",
     "iopub.status.busy": "2025-01-22T18:50:42.706531Z",
     "iopub.status.idle": "2025-01-22T18:50:43.484282Z",
     "shell.execute_reply": "2025-01-22T18:50:43.483732Z",
     "shell.execute_reply.started": "2025-01-22T18:50:42.706853Z"
    }
   },
   "outputs": [],
   "source": [
    "model = create_model()"
   ]
  },
  {
   "cell_type": "code",
   "execution_count": 69,
   "id": "40134fc8-8e9f-4a2a-8eac-325e6add5eea",
   "metadata": {
    "execution": {
     "iopub.execute_input": "2025-01-22T18:50:44.040553Z",
     "iopub.status.busy": "2025-01-22T18:50:44.040217Z",
     "iopub.status.idle": "2025-01-22T18:55:37.276037Z",
     "shell.execute_reply": "2025-01-22T18:55:37.275399Z",
     "shell.execute_reply.started": "2025-01-22T18:50:44.040533Z"
    }
   },
   "outputs": [
    {
     "name": "stdout",
     "output_type": "stream",
     "text": [
      "Epoch 1/10\n"
     ]
    },
    {
     "name": "stderr",
     "output_type": "stream",
     "text": [
      "WARNING: All log messages before absl::InitializeLog() is called are written to STDERR\n",
      "I0000 00:00:1737571847.975532    1486 service.cc:148] XLA service 0x7f41500024e0 initialized for platform CUDA (this does not guarantee that XLA will be used). Devices:\n",
      "I0000 00:00:1737571847.975565    1486 service.cc:156]   StreamExecutor device (0): Tesla T4, Compute Capability 7.5\n",
      "2025-01-22 18:50:48.068781: I tensorflow/compiler/mlir/tensorflow/utils/dump_mlir_util.cc:268] disabling MLIR crash reproducer, set env var `MLIR_CRASH_REPRODUCER_DIRECTORY` to enable.\n",
      "I0000 00:00:1737571848.766157    1486 cuda_dnn.cc:529] Loaded cuDNN version 90300\n",
      "2025-01-22 18:50:51.904549: W external/local_xla/xla/service/gpu/nvptx_compiler.cc:930] The NVIDIA driver's CUDA version is 12.4 which is older than the PTX compiler version 12.5.82. Because the driver is older than the PTX compiler version, XLA is disabling parallel compilation, which may slow down compilation. You should update your NVIDIA driver or use the NVIDIA-provided CUDA forward compatibility packages.\n"
     ]
    },
    {
     "name": "stdout",
     "output_type": "stream",
     "text": [
      "\u001b[1m  3/342\u001b[0m \u001b[37m━━━━━━━━━━━━━━━━━━━━\u001b[0m \u001b[1m20s\u001b[0m 59ms/step - accuracy: 0.6417 - loss: 0.6423"
     ]
    },
    {
     "name": "stderr",
     "output_type": "stream",
     "text": [
      "I0000 00:00:1737571852.768165    1486 device_compiler.h:188] Compiled cluster using XLA!  This line is logged at most once for the lifetime of the process.\n"
     ]
    },
    {
     "name": "stdout",
     "output_type": "stream",
     "text": [
      "\u001b[1m342/342\u001b[0m \u001b[32m━━━━━━━━━━━━━━━━━━━━\u001b[0m\u001b[37m\u001b[0m \u001b[1m45s\u001b[0m 107ms/step - accuracy: 0.8144 - loss: 0.4083 - val_accuracy: 0.8621 - val_loss: 0.3133\n",
      "Epoch 2/10\n",
      "\u001b[1m342/342\u001b[0m \u001b[32m━━━━━━━━━━━━━━━━━━━━\u001b[0m\u001b[37m\u001b[0m \u001b[1m27s\u001b[0m 80ms/step - accuracy: 0.8739 - loss: 0.2949 - val_accuracy: 0.8748 - val_loss: 0.2979\n",
      "Epoch 3/10\n",
      "\u001b[1m342/342\u001b[0m \u001b[32m━━━━━━━━━━━━━━━━━━━━\u001b[0m\u001b[37m\u001b[0m \u001b[1m27s\u001b[0m 80ms/step - accuracy: 0.8959 - loss: 0.2404 - val_accuracy: 0.8810 - val_loss: 0.2990\n",
      "Epoch 4/10\n",
      "\u001b[1m342/342\u001b[0m \u001b[32m━━━━━━━━━━━━━━━━━━━━\u001b[0m\u001b[37m\u001b[0m \u001b[1m28s\u001b[0m 81ms/step - accuracy: 0.9183 - loss: 0.1939 - val_accuracy: 0.8876 - val_loss: 0.2776\n",
      "Epoch 5/10\n",
      "\u001b[1m342/342\u001b[0m \u001b[32m━━━━━━━━━━━━━━━━━━━━\u001b[0m\u001b[37m\u001b[0m \u001b[1m28s\u001b[0m 81ms/step - accuracy: 0.9409 - loss: 0.1529 - val_accuracy: 0.8854 - val_loss: 0.2854\n",
      "Epoch 6/10\n",
      "\u001b[1m342/342\u001b[0m \u001b[32m━━━━━━━━━━━━━━━━━━━━\u001b[0m\u001b[37m\u001b[0m \u001b[1m28s\u001b[0m 81ms/step - accuracy: 0.9508 - loss: 0.1319 - val_accuracy: 0.8937 - val_loss: 0.2942\n",
      "Epoch 7/10\n",
      "\u001b[1m342/342\u001b[0m \u001b[32m━━━━━━━━━━━━━━━━━━━━\u001b[0m\u001b[37m\u001b[0m \u001b[1m28s\u001b[0m 81ms/step - accuracy: 0.9634 - loss: 0.0969 - val_accuracy: 0.8902 - val_loss: 0.2992\n",
      "Epoch 8/10\n",
      "\u001b[1m342/342\u001b[0m \u001b[32m━━━━━━━━━━━━━━━━━━━━\u001b[0m\u001b[37m\u001b[0m \u001b[1m28s\u001b[0m 81ms/step - accuracy: 0.9698 - loss: 0.0836 - val_accuracy: 0.8845 - val_loss: 0.3232\n",
      "Epoch 9/10\n",
      "\u001b[1m342/342\u001b[0m \u001b[32m━━━━━━━━━━━━━━━━━━━━\u001b[0m\u001b[37m\u001b[0m \u001b[1m28s\u001b[0m 81ms/step - accuracy: 0.9701 - loss: 0.0782 - val_accuracy: 0.8867 - val_loss: 0.3405\n",
      "Epoch 10/10\n",
      "\u001b[1m342/342\u001b[0m \u001b[32m━━━━━━━━━━━━━━━━━━━━\u001b[0m\u001b[37m\u001b[0m \u001b[1m28s\u001b[0m 81ms/step - accuracy: 0.9868 - loss: 0.0413 - val_accuracy: 0.8841 - val_loss: 0.3733\n"
     ]
    }
   ],
   "source": [
    "history = model.fit(\n",
    "    train_generator,\n",
    "    epochs=10,\n",
    "    validation_data=validation_generator,\n",
    ")"
   ]
  },
  {
   "cell_type": "code",
   "execution_count": 71,
   "id": "03f0ee2e-9b63-41d6-a8ab-aa720bf04817",
   "metadata": {
    "execution": {
     "iopub.execute_input": "2025-01-22T18:56:42.656440Z",
     "iopub.status.busy": "2025-01-22T18:56:42.656095Z",
     "iopub.status.idle": "2025-01-22T18:56:42.935641Z",
     "shell.execute_reply": "2025-01-22T18:56:42.934963Z",
     "shell.execute_reply.started": "2025-01-22T18:56:42.656417Z"
    }
   },
   "outputs": [
    {
     "data": {
      "image/png": "[encoded data removed]",
      "text/plain": [
       "<Figure size 640x480 with 1 Axes>"
      ]
     },
     "metadata": {},
     "output_type": "display_data"
    },
    {
     "data": {
      "image/png": "[encoded data removed]",
      "text/plain": [
       "<Figure size 640x480 with 1 Axes>"
      ]
     },
     "metadata": {},
     "output_type": "display_data"
    }
   ],
   "source": [
    "acc = history.history['accuracy']\n",
    "val_acc = history.history['val_accuracy']\n",
    "loss = history.history['loss']\n",
    "val_loss = history.history['val_loss']\n",
    "\n",
    "epochs = range(1, len(acc) + 1)\n",
    "\n",
    "plt.plot(epochs, acc, 'bo', label='Training acc')\n",
    "plt.plot(epochs, val_acc, 'b', label='Validation acc')\n",
    "plt.title('Training and Validation Accuracy')\n",
    "plt.legend()\n",
    "\n",
    "plt.figure()\n",
    "\n",
    "plt.plot(epochs, loss, 'bo', label='Training loss')\n",
    "plt.plot(epochs, val_loss, 'b', label='Validation loss')\n",
    "plt.title('Training and Validation Loss')\n",
    "plt.legend()\n",
    "\n",
    "plt.show()"
   ]
  },
  {
   "cell_type": "code",
   "execution_count": 72,
   "id": "5fe1ff5c-9401-4179-bf35-373308343c08",
   "metadata": {
    "execution": {
     "iopub.execute_input": "2025-01-22T18:57:24.369362Z",
     "iopub.status.busy": "2025-01-22T18:57:24.369034Z",
     "iopub.status.idle": "2025-01-22T18:57:24.374172Z",
     "shell.execute_reply": "2025-01-22T18:57:24.373637Z",
     "shell.execute_reply.started": "2025-01-22T18:57:24.369339Z"
    }
   },
   "outputs": [
    {
     "data": {
      "text/plain": [
       "np.float64(0.9425329267978668)"
      ]
     },
     "execution_count": 72,
     "metadata": {},
     "output_type": "execute_result"
    }
   ],
   "source": [
    "acc_median = np.median(acc)\n",
    "acc_median"
   ]
  },
  {
   "cell_type": "code",
   "execution_count": 73,
   "id": "45480d5d-e0f5-40fb-8852-1012d4f139ca",
   "metadata": {
    "execution": {
     "iopub.execute_input": "2025-01-22T18:57:30.674314Z",
     "iopub.status.busy": "2025-01-22T18:57:30.673743Z",
     "iopub.status.idle": "2025-01-22T18:57:30.679143Z",
     "shell.execute_reply": "2025-01-22T18:57:30.678612Z",
     "shell.execute_reply.started": "2025-01-22T18:57:30.674290Z"
    }
   },
   "outputs": [
    {
     "data": {
      "text/plain": [
       "np.float64(0.10077981570257692)"
      ]
     },
     "execution_count": 73,
     "metadata": {},
     "output_type": "execute_result"
    }
   ],
   "source": [
    "loss_std = np.std(loss)\n",
    "loss_std"
   ]
  },
  {
   "cell_type": "code",
   "execution_count": 87,
   "id": "86980b1b-8d41-472d-9b2b-a06dca20c3e2",
   "metadata": {
    "execution": {
     "iopub.execute_input": "2025-01-21T19:37:41.084660Z",
     "iopub.status.busy": "2025-01-21T19:37:41.084348Z",
     "iopub.status.idle": "2025-01-21T19:37:41.088535Z",
     "shell.execute_reply": "2025-01-21T19:37:41.088045Z",
     "shell.execute_reply.started": "2025-01-21T19:37:41.084632Z"
    }
   },
   "outputs": [],
   "source": [
    "train_datagen = ImageDataGenerator(\n",
    "    rescale=1./255,\n",
    "    rotation_range=50,\n",
    "    width_shift_range=0.1,\n",
    "    height_shift_range=0.1,\n",
    "    zoom_range=0.1,\n",
    "    horizontal_flip=True,\n",
    "    fill_mode='nearest'\n",
    ")"
   ]
  },
  {
   "cell_type": "code",
   "execution_count": 88,
   "id": "94ae4569-687d-4e53-a162-01ba81a9e1e3",
   "metadata": {
    "execution": {
     "iopub.execute_input": "2025-01-21T19:37:41.089418Z",
     "iopub.status.busy": "2025-01-21T19:37:41.089149Z",
     "iopub.status.idle": "2025-01-21T19:37:41.093996Z",
     "shell.execute_reply": "2025-01-21T19:37:41.093558Z",
     "shell.execute_reply.started": "2025-01-21T19:37:41.089399Z"
    }
   },
   "outputs": [],
   "source": [
    "test_datagen = ImageDataGenerator(rescale=1./255)"
   ]
  },
  {
   "cell_type": "code",
   "execution_count": 89,
   "id": "b0d73383-7e6b-404c-aa7e-73670418332e",
   "metadata": {
    "execution": {
     "iopub.execute_input": "2025-01-21T19:37:41.095092Z",
     "iopub.status.busy": "2025-01-21T19:37:41.094707Z",
     "iopub.status.idle": "2025-01-21T19:37:41.210921Z",
     "shell.execute_reply": "2025-01-21T19:37:41.210394Z",
     "shell.execute_reply.started": "2025-01-21T19:37:41.095066Z"
    }
   },
   "outputs": [
    {
     "name": "stdout",
     "output_type": "stream",
     "text": [
      "Found 6830 images belonging to 2 classes.\n"
     ]
    }
   ],
   "source": [
    "train_generator = train_datagen.flow_from_directory(\n",
    "    train_dir,\n",
    "    target_size=(200, 200),\n",
    "    batch_size=20,\n",
    "    class_mode='binary'\n",
    ")"
   ]
  },
  {
   "cell_type": "code",
   "execution_count": 90,
   "id": "d140b899-4776-46bf-a69f-1ce35b212d45",
   "metadata": {
    "execution": {
     "iopub.execute_input": "2025-01-21T19:37:41.212291Z",
     "iopub.status.busy": "2025-01-21T19:37:41.211706Z",
     "iopub.status.idle": "2025-01-21T19:37:41.257846Z",
     "shell.execute_reply": "2025-01-21T19:37:41.257320Z",
     "shell.execute_reply.started": "2025-01-21T19:37:41.212257Z"
    }
   },
   "outputs": [
    {
     "name": "stdout",
     "output_type": "stream",
     "text": [
      "Found 2275 images belonging to 2 classes.\n"
     ]
    }
   ],
   "source": [
    "validation_generator = test_datagen.flow_from_directory(\n",
    "    test_dir,\n",
    "    target_size=(200, 200),\n",
    "    batch_size=20,\n",
    "    class_mode='binary'\n",
    ")"
   ]
  },
  {
   "cell_type": "code",
   "execution_count": 76,
   "id": "0662fd04-3ba9-42c3-8ec5-d7f9f93f70d5",
   "metadata": {
    "execution": {
     "iopub.execute_input": "2025-01-22T19:00:07.738614Z",
     "iopub.status.busy": "2025-01-22T19:00:07.738271Z",
     "iopub.status.idle": "2025-01-22T19:04:45.007019Z",
     "shell.execute_reply": "2025-01-22T19:04:45.006486Z",
     "shell.execute_reply.started": "2025-01-22T19:00:07.738591Z"
    }
   },
   "outputs": [
    {
     "name": "stdout",
     "output_type": "stream",
     "text": [
      "Epoch 1/10\n",
      "\u001b[1m342/342\u001b[0m \u001b[32m━━━━━━━━━━━━━━━━━━━━\u001b[0m\u001b[37m\u001b[0m \u001b[1m28s\u001b[0m 81ms/step - accuracy: 0.9958 - loss: 0.0216 - val_accuracy: 0.8849 - val_loss: 0.4288\n",
      "Epoch 2/10\n",
      "\u001b[1m342/342\u001b[0m \u001b[32m━━━━━━━━━━━━━━━━━━━━\u001b[0m\u001b[37m\u001b[0m \u001b[1m28s\u001b[0m 82ms/step - accuracy: 0.9974 - loss: 0.0174 - val_accuracy: 0.8884 - val_loss: 0.4152\n",
      "Epoch 3/10\n",
      "\u001b[1m342/342\u001b[0m \u001b[32m━━━━━━━━━━━━━━━━━━━━\u001b[0m\u001b[37m\u001b[0m \u001b[1m28s\u001b[0m 80ms/step - accuracy: 0.9975 - loss: 0.0127 - val_accuracy: 0.8740 - val_loss: 0.4580\n",
      "Epoch 4/10\n",
      "\u001b[1m342/342\u001b[0m \u001b[32m━━━━━━━━━━━━━━━━━━━━\u001b[0m\u001b[37m\u001b[0m \u001b[1m28s\u001b[0m 81ms/step - accuracy: 0.9918 - loss: 0.0265 - val_accuracy: 0.8779 - val_loss: 0.4314\n",
      "Epoch 5/10\n",
      "\u001b[1m342/342\u001b[0m \u001b[32m━━━━━━━━━━━━━━━━━━━━\u001b[0m\u001b[37m\u001b[0m \u001b[1m28s\u001b[0m 81ms/step - accuracy: 0.9894 - loss: 0.0313 - val_accuracy: 0.8762 - val_loss: 0.5346\n",
      "Epoch 6/10\n",
      "\u001b[1m342/342\u001b[0m \u001b[32m━━━━━━━━━━━━━━━━━━━━\u001b[0m\u001b[37m\u001b[0m \u001b[1m28s\u001b[0m 81ms/step - accuracy: 0.9973 - loss: 0.0134 - val_accuracy: 0.8863 - val_loss: 0.4794\n",
      "Epoch 7/10\n",
      "\u001b[1m342/342\u001b[0m \u001b[32m━━━━━━━━━━━━━━━━━━━━\u001b[0m\u001b[37m\u001b[0m \u001b[1m28s\u001b[0m 82ms/step - accuracy: 0.9996 - loss: 0.0048 - val_accuracy: 0.8924 - val_loss: 0.4957\n",
      "Epoch 8/10\n",
      "\u001b[1m342/342\u001b[0m \u001b[32m━━━━━━━━━━━━━━━━━━━━\u001b[0m\u001b[37m\u001b[0m \u001b[1m28s\u001b[0m 82ms/step - accuracy: 1.0000 - loss: 0.0021 - val_accuracy: 0.8928 - val_loss: 0.4989\n",
      "Epoch 9/10\n",
      "\u001b[1m342/342\u001b[0m \u001b[32m━━━━━━━━━━━━━━━━━━━━\u001b[0m\u001b[37m\u001b[0m \u001b[1m28s\u001b[0m 81ms/step - accuracy: 1.0000 - loss: 0.0016 - val_accuracy: 0.8928 - val_loss: 0.5247\n",
      "Epoch 10/10\n",
      "\u001b[1m342/342\u001b[0m \u001b[32m━━━━━━━━━━━━━━━━━━━━\u001b[0m\u001b[37m\u001b[0m \u001b[1m28s\u001b[0m 81ms/step - accuracy: 1.0000 - loss: 0.0012 - val_accuracy: 0.8863 - val_loss: 0.5614\n"
     ]
    }
   ],
   "source": [
    "history = model.fit(\n",
    "    train_generator,\n",
    "    epochs=10,\n",
    "    validation_data=validation_generator,\n",
    "    callbacks=[checkpoint]\n",
    ")"
   ]
  },
  {
   "cell_type": "code",
   "execution_count": 78,
   "id": "ed30a1bb-87d3-42f4-ba07-b1f5b01f8662",
   "metadata": {
    "execution": {
     "iopub.execute_input": "2025-01-22T19:05:06.165571Z",
     "iopub.status.busy": "2025-01-22T19:05:06.165232Z",
     "iopub.status.idle": "2025-01-22T19:05:06.403104Z",
     "shell.execute_reply": "2025-01-22T19:05:06.402476Z",
     "shell.execute_reply.started": "2025-01-22T19:05:06.165549Z"
    }
   },
   "outputs": [
    {
     "data": {
      "image/png": "[encoded data removed]",
      "text/plain": [
       "<Figure size 640x480 with 1 Axes>"
      ]
     },
     "metadata": {},
     "output_type": "display_data"
    },
    {
     "data": {
      "image/png": "[encoded data removed]",
      "text/plain": [
       "<Figure size 640x480 with 1 Axes>"
      ]
     },
     "metadata": {},
     "output_type": "display_data"
    }
   ],
   "source": [
    "acc_aug = history.history['accuracy']\n",
    "val_acc_aug = history.history['val_accuracy']\n",
    "loss_aug = history.history['loss']\n",
    "val_loss_aug = history.history['val_loss']\n",
    "\n",
    "epochs_aug = range(1, len(acc) + 1)\n",
    "\n",
    "plt.plot(epochs_aug, acc_aug, 'bo', label='Training acc')\n",
    "plt.plot(epochs_aug, val_acc_aug, 'b', label='Validation acc')\n",
    "plt.title('Training and Validation Accuracy')\n",
    "plt.legend()\n",
    "\n",
    "plt.figure()\n",
    "\n",
    "plt.plot(epochs_aug, loss_aug, 'bo', label='Training loss')\n",
    "plt.plot(epochs_aug, val_loss_aug, 'b', label='Validation loss')\n",
    "plt.title('Training and Validation Loss')\n",
    "plt.legend()\n",
    "\n",
    "plt.show()"
   ]
  },
  {
   "cell_type": "code",
   "execution_count": 79,
   "id": "93847e49-c739-4df4-8b96-d15444764b9f",
   "metadata": {
    "execution": {
     "iopub.execute_input": "2025-01-22T19:05:15.154083Z",
     "iopub.status.busy": "2025-01-22T19:05:15.153742Z",
     "iopub.status.idle": "2025-01-22T19:05:15.158442Z",
     "shell.execute_reply": "2025-01-22T19:05:15.157873Z",
     "shell.execute_reply.started": "2025-01-22T19:05:15.154061Z"
    }
   },
   "outputs": [
    {
     "data": {
      "text/plain": [
       "np.float64(0.4828305453062057)"
      ]
     },
     "execution_count": 79,
     "metadata": {},
     "output_type": "execute_result"
    }
   ],
   "source": [
    "loss_mean_aug = np.mean(val_loss_aug)\n",
    "loss_mean_aug"
   ]
  },
  {
   "cell_type": "code",
   "execution_count": 80,
   "id": "c8c957ad-2900-4e0e-a965-4dab73b931bf",
   "metadata": {
    "execution": {
     "iopub.execute_input": "2025-01-22T19:05:25.242152Z",
     "iopub.status.busy": "2025-01-22T19:05:25.241807Z",
     "iopub.status.idle": "2025-01-22T19:05:25.246793Z",
     "shell.execute_reply": "2025-01-22T19:05:25.246160Z",
     "shell.execute_reply.started": "2025-01-22T19:05:25.242131Z"
    }
   },
   "outputs": [
    {
     "data": {
      "text/plain": [
       "[0.886253833770752,\n",
       " 0.8924022912979126,\n",
       " 0.8928414583206177,\n",
       " 0.8928414583206177,\n",
       " 0.886253833770752]"
      ]
     },
     "execution_count": 80,
     "metadata": {},
     "output_type": "execute_result"
    }
   ],
   "source": [
    "val_acc_aug[5:10]"
   ]
  },
  {
   "cell_type": "code",
   "execution_count": 81,
   "id": "44d3195a-aa66-402c-94fb-fd11a553ecad",
   "metadata": {
    "execution": {
     "iopub.execute_input": "2025-01-22T19:05:26.922424Z",
     "iopub.status.busy": "2025-01-22T19:05:26.922077Z",
     "iopub.status.idle": "2025-01-22T19:05:26.926644Z",
     "shell.execute_reply": "2025-01-22T19:05:26.926103Z",
     "shell.execute_reply.started": "2025-01-22T19:05:26.922402Z"
    }
   },
   "outputs": [
    {
     "data": {
      "text/plain": [
       "np.float64(0.8901185750961303)"
      ]
     },
     "execution_count": 81,
     "metadata": {},
     "output_type": "execute_result"
    }
   ],
   "source": [
    "acc_mean_aug = np.mean(val_acc_aug[5:10])\n",
    "acc_mean_aug"
   ]
  },
  {
   "cell_type": "markdown",
   "id": "7b7ac6e5-fecf-4f93-9d7b-97e2dc931b7b",
   "metadata": {},
   "source": [
    "Using a saved model via checkpoint"
   ]
  },
  {
   "cell_type": "code",
   "execution_count": 82,
   "id": "7d931549-735e-4156-9e7a-d431d051be57",
   "metadata": {
    "execution": {
     "iopub.execute_input": "2025-01-22T19:05:40.292812Z",
     "iopub.status.busy": "2025-01-22T19:05:40.292488Z",
     "iopub.status.idle": "2025-01-22T19:05:40.296079Z",
     "shell.execute_reply": "2025-01-22T19:05:40.295432Z",
     "shell.execute_reply.started": "2025-01-22T19:05:40.292789Z"
    }
   },
   "outputs": [],
   "source": [
    "from tensorflow.keras.preprocessing.image import ImageDataGenerator\n",
    "from tensorflow.keras.preprocessing.image import load_img"
   ]
  },
  {
   "cell_type": "code",
   "execution_count": 83,
   "id": "935d40e7-096b-440a-8f2e-fa3605f91b05",
   "metadata": {
    "execution": {
     "iopub.execute_input": "2025-01-22T19:06:26.162651Z",
     "iopub.status.busy": "2025-01-22T19:06:26.162310Z",
     "iopub.status.idle": "2025-01-22T19:06:27.008144Z",
     "shell.execute_reply": "2025-01-22T19:06:27.007574Z",
     "shell.execute_reply.started": "2025-01-22T19:06:26.162630Z"
    }
   },
   "outputs": [],
   "source": [
    "model = keras.models.load_model('xception_v1_08_0.893.keras')"
   ]
  },
  {
   "cell_type": "code",
   "execution_count": 84,
   "id": "b465f22b-be7c-40a2-a9bc-1150a347d1eb",
   "metadata": {
    "execution": {
     "iopub.execute_input": "2025-01-22T19:06:31.123253Z",
     "iopub.status.busy": "2025-01-22T19:06:31.122904Z",
     "iopub.status.idle": "2025-01-22T19:06:42.407435Z",
     "shell.execute_reply": "2025-01-22T19:06:42.406874Z",
     "shell.execute_reply.started": "2025-01-22T19:06:31.123230Z"
    }
   },
   "outputs": [
    {
     "name": "stdout",
     "output_type": "stream",
     "text": [
      "\u001b[1m114/114\u001b[0m \u001b[32m━━━━━━━━━━━━━━━━━━━━\u001b[0m\u001b[37m\u001b[0m \u001b[1m11s\u001b[0m 71ms/step - accuracy: 0.8874 - loss: 0.5306\n"
     ]
    },
    {
     "data": {
      "text/plain": [
       "[0.49888983368873596, 0.8928414583206177]"
      ]
     },
     "execution_count": 84,
     "metadata": {},
     "output_type": "execute_result"
    }
   ],
   "source": [
    "model.evaluate(validation_generator)"
   ]
  },
  {
   "cell_type": "code",
   "execution_count": 95,
   "id": "458d1c34-22d7-4cee-8fc0-47470746ba0f",
   "metadata": {
    "execution": {
     "iopub.execute_input": "2025-01-22T19:21:00.038976Z",
     "iopub.status.busy": "2025-01-22T19:21:00.038537Z",
     "iopub.status.idle": "2025-01-22T19:21:00.043460Z",
     "shell.execute_reply": "2025-01-22T19:21:00.042898Z",
     "shell.execute_reply.started": "2025-01-22T19:21:00.038945Z"
    }
   },
   "outputs": [],
   "source": [
    "path = 'data/test/young/10056.jpg'\n",
    "img = load_img(path, target_size=(200, 200))"
   ]
  },
  {
   "cell_type": "code",
   "execution_count": 96,
   "id": "2df6fff7-5556-4fec-8f1a-03d09f3f0f3a",
   "metadata": {
    "execution": {
     "iopub.execute_input": "2025-01-22T19:21:03.065209Z",
     "iopub.status.busy": "2025-01-22T19:21:03.064843Z",
     "iopub.status.idle": "2025-01-22T19:21:03.070386Z",
     "shell.execute_reply": "2025-01-22T19:21:03.069854Z",
     "shell.execute_reply.started": "2025-01-22T19:21:03.065185Z"
    }
   },
   "outputs": [
    {
     "data": {
      "text/plain": [
       "(1, 200, 200, 3)"
      ]
     },
     "execution_count": 96,
     "metadata": {},
     "output_type": "execute_result"
    }
   ],
   "source": [
    "import numpy as np\n",
    "x = np.array(img)\n",
    "X = np.array([x])\n",
    "X.shape"
   ]
  },
  {
   "cell_type": "code",
   "execution_count": 97,
   "id": "aec7b844-b5bd-4f52-8319-123716ca1891",
   "metadata": {
    "execution": {
     "iopub.execute_input": "2025-01-22T19:21:04.075425Z",
     "iopub.status.busy": "2025-01-22T19:21:04.075041Z",
     "iopub.status.idle": "2025-01-22T19:21:04.160164Z",
     "shell.execute_reply": "2025-01-22T19:21:04.159391Z",
     "shell.execute_reply.started": "2025-01-22T19:21:04.075397Z"
    }
   },
   "outputs": [
    {
     "name": "stdout",
     "output_type": "stream",
     "text": [
      "\u001b[1m1/1\u001b[0m \u001b[32m━━━━━━━━━━━━━━━━━━━━\u001b[0m\u001b[37m\u001b[0m \u001b[1m0s\u001b[0m 38ms/step\n"
     ]
    }
   ],
   "source": [
    "X = preprocess_input(X)\n",
    "pred = model.predict(X)"
   ]
  },
  {
   "cell_type": "code",
   "execution_count": 98,
   "id": "ec38ea46-7a1d-45e3-a3b5-7693be7227d1",
   "metadata": {
    "execution": {
     "iopub.execute_input": "2025-01-22T19:21:07.127942Z",
     "iopub.status.busy": "2025-01-22T19:21:07.127254Z",
     "iopub.status.idle": "2025-01-22T19:21:07.133164Z",
     "shell.execute_reply": "2025-01-22T19:21:07.132345Z",
     "shell.execute_reply.started": "2025-01-22T19:21:07.127905Z"
    }
   },
   "outputs": [
    {
     "data": {
      "text/plain": [
       "array([-1.584364 ,  1.1029187], dtype=float32)"
      ]
     },
     "execution_count": 98,
     "metadata": {},
     "output_type": "execute_result"
    }
   ],
   "source": [
    "pred[0]"
   ]
  },
  {
   "cell_type": "code",
   "execution_count": 99,
   "id": "31d0bedb-4bf3-4883-80a6-3de6575c52ac",
   "metadata": {
    "execution": {
     "iopub.execute_input": "2025-01-22T19:21:08.192189Z",
     "iopub.status.busy": "2025-01-22T19:21:08.191837Z",
     "iopub.status.idle": "2025-01-22T19:21:08.196886Z",
     "shell.execute_reply": "2025-01-22T19:21:08.196317Z",
     "shell.execute_reply.started": "2025-01-22T19:21:08.192166Z"
    }
   },
   "outputs": [
    {
     "name": "stdout",
     "output_type": "stream",
     "text": [
      "[0.06372795 0.936272  ]\n"
     ]
    }
   ],
   "source": [
    "import tensorflow as tf\n",
    "\n",
    "probabilities = tf.nn.softmax(pred[0]).numpy()\n",
    "print(probabilities)"
   ]
  },
  {
   "cell_type": "markdown",
   "id": "73627203-6e52-4cad-85b7-5f2d6f18fed4",
   "metadata": {},
   "source": [
    "Convert model to TF-Lite"
   ]
  },
  {
   "cell_type": "code",
   "execution_count": 128,
   "id": "5a396857-c0b9-4a03-b4b3-a6b58471603b",
   "metadata": {
    "execution": {
     "iopub.execute_input": "2025-01-21T20:43:30.523092Z",
     "iopub.status.busy": "2025-01-21T20:43:30.522713Z",
     "iopub.status.idle": "2025-01-21T20:43:34.426332Z",
     "shell.execute_reply": "2025-01-21T20:43:34.425713Z",
     "shell.execute_reply.started": "2025-01-21T20:43:30.523070Z"
    }
   },
   "outputs": [
    {
     "name": "stdout",
     "output_type": "stream",
     "text": [
      "INFO:tensorflow:Assets written to: /tmp/tmpzh2mqdgb/assets\n"
     ]
    },
    {
     "name": "stderr",
     "output_type": "stream",
     "text": [
      "INFO:tensorflow:Assets written to: /tmp/tmpzh2mqdgb/assets\n"
     ]
    },
    {
     "name": "stdout",
     "output_type": "stream",
     "text": [
      "Saved artifact at '/tmp/tmpzh2mqdgb'. The following endpoints are available:\n",
      "\n",
      "* Endpoint 'serve'\n",
      "  args_0 (POSITIONAL_ONLY): TensorSpec(shape=(None, 200, 200, 3), dtype=tf.float32, name='input_layer_2')\n",
      "Output Type:\n",
      "  TensorSpec(shape=(None, 1), dtype=tf.float32, name=None)\n",
      "Captures:\n",
      "  140043279556176: TensorSpec(shape=(), dtype=tf.resource, name=None)\n",
      "  140043279554256: TensorSpec(shape=(), dtype=tf.resource, name=None)\n",
      "  140043279557712: TensorSpec(shape=(), dtype=tf.resource, name=None)\n",
      "  140043279558672: TensorSpec(shape=(), dtype=tf.resource, name=None)\n",
      "  140043279558864: TensorSpec(shape=(), dtype=tf.resource, name=None)\n",
      "  140043279559440: TensorSpec(shape=(), dtype=tf.resource, name=None)\n"
     ]
    },
    {
     "name": "stderr",
     "output_type": "stream",
     "text": [
      "W0000 00:00:1737492211.410810    1554 tf_tfl_flatbuffer_helpers.cc:365] Ignored output_format.\n",
      "W0000 00:00:1737492211.410835    1554 tf_tfl_flatbuffer_helpers.cc:368] Ignored drop_control_dependency.\n",
      "2025-01-21 20:43:31.411375: I tensorflow/cc/saved_model/reader.cc:83] Reading SavedModel from: /tmp/tmpzh2mqdgb\n",
      "2025-01-21 20:43:31.412390: I tensorflow/cc/saved_model/reader.cc:52] Reading meta graph with tags { serve }\n",
      "2025-01-21 20:43:31.412409: I tensorflow/cc/saved_model/reader.cc:147] Reading SavedModel debug info (if present) from: /tmp/tmpzh2mqdgb\n",
      "I0000 00:00:1737492211.417887    1554 mlir_graph_optimization_pass.cc:401] MLIR V1 optimization pass is not enabled\n",
      "2025-01-21 20:43:31.418883: I tensorflow/cc/saved_model/loader.cc:236] Restoring SavedModel bundle.\n",
      "2025-01-21 20:43:31.504654: I tensorflow/cc/saved_model/loader.cc:220] Running initialization op on SavedModel bundle at path: /tmp/tmpzh2mqdgb\n",
      "2025-01-21 20:43:31.515213: I tensorflow/cc/saved_model/loader.cc:466] SavedModel load for tags { serve }; Status: success: OK. Took 103842 microseconds.\n"
     ]
    }
   ],
   "source": [
    "converter = tf.lite.TFLiteConverter.from_keras_model(model)\n",
    "\n",
    "tflite_model = converter.convert()\n",
    "\n",
    "with open('model.tflite', 'wb') as f_out:\n",
    "    f_out.write(tflite_model)"
   ]
  },
  {
   "cell_type": "code",
   "execution_count": null,
   "id": "ba41b4a1-d891-414d-947f-f68c09999c31",
   "metadata": {},
   "outputs": [],
   "source": []
  }
 ],
 "metadata": {
  "kernelspec": {
   "display_name": "saturn (Python 3)",
   "language": "python",
   "name": "python3"
  },
  "language_info": {
   "codemirror_mode": {
    "name": "ipython",
    "version": 3
   },
   "file_extension": ".py",
   "mimetype": "text/x-python",
   "name": "python",
   "nbconvert_exporter": "python",
   "pygments_lexer": "ipython3",
   "version": "3.12.7"
  }
 },
 "nbformat": 4,
 "nbformat_minor": 5
}
